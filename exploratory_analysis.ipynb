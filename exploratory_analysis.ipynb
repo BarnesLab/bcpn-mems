{
 "cells": [
  {
   "cell_type": "code",
   "execution_count": null,
   "metadata": {},
   "outputs": [],
   "source": [
    "import pandas as pd\r\n",
    "import numpy as np\r\n",
    "from pathlib import Path\r\n",
    "import math\r\n",
    "from datetime import datetime\r\n",
    "import re\r\n",
    "import csv\r\n",
    "import itertools\r\n",
    "import matplotlib.pyplot as plt\r\n",
    "import seaborn as sns\r\n",
    "import statsmodels.stats.api as sms\r\n",
    "import scipy\r\n",
    "from sklearn.feature_selection import VarianceThreshold\r\n",
    "from sklearn.experimental import enable_iterative_imputer\r\n",
    "from sklearn.impute import IterativeImputer\r\n",
    "import tensorflow as tf\r\n",
    "from pipeline import data, features, consts"
   ]
  },
  {
   "cell_type": "code",
   "execution_count": null,
   "metadata": {},
   "outputs": [],
   "source": [
    "# Load the data\r\n",
    "datafile = Path(\"/mnt/c/Users/anbag/Box Sync/Research/UVA/Medication Adherance/MEMS dataset/final_merged_set_v6.csv\")\r\n",
    "#datafile = Path(\"/mnt/c/Users/ab5bt/Box Sync/Research/UVA/Medication Adherance/MEMS dataset/final_merged_set_v6.csv\")\r\n",
    "df = pd.read_csv(datafile, parse_dates=False)\r\n",
    "df.head()"
   ]
  },
  {
   "cell_type": "markdown",
   "metadata": {},
   "source": [
    "# Data Cleaning\n",
    "Thank you to Jason Brownlee\n",
    "https://machinelearningmastery.com/basic-data-cleaning-for-machine-learning/"
   ]
  },
  {
   "cell_type": "code",
   "execution_count": null,
   "metadata": {},
   "outputs": [],
   "source": [
    "# Instantiate a Dataset class\r\n",
    "dataset = data.Dataset(df, id_cols = ['PtID', 'MemsNum'])\r\n",
    "dataset"
   ]
  },
  {
   "cell_type": "code",
   "execution_count": null,
   "metadata": {},
   "outputs": [],
   "source": [
    "# Tidy the dataset - get rid of useless or recoded columns\r\n",
    "dataset.clean(to_rename = {**consts.RENAMINGS['demographics'], \r\n",
    "                             **consts.RENAMINGS['medical']}, \r\n",
    "              to_drop=[col for col in dataset.df.columns if '_Name' in col],\r\n",
    "              to_map = consts.CODEBOOK,\r\n",
    "              to_binarize = ['race_other'],\r\n",
    "              onehots_to_reverse = ['race_']\r\n",
    "             )\r\n",
    "\r\n",
    "''' \r\n",
    "Set dtypes on remaining columns\r\n",
    "For now, naively assume we only have numerics, datetimes, or objects\r\n",
    "'''\r\n",
    "dtypes_dict = {\r\n",
    "    'numeric': [col for col in dataset.df.columns if 'date' not in col.lower()],\r\n",
    "    'datetime': ['DateEnroll']\r\n",
    "}\r\n",
    "\r\n",
    "dataset.set_dtypes(dtypes_dict)\r\n",
    "\r\n",
    "''' See if it worked '''\r\n",
    "dataset.df.head()"
   ]
  },
  {
   "cell_type": "code",
   "execution_count": null,
   "metadata": {},
   "outputs": [],
   "source": [
    "# # split data into inputs and outputs\r\n",
    "# X = dataset.df.drop(columns=['percentMEMS8'] + dataset.id_cols, axis=1)\r\n",
    "# X = X.select_dtypes('number').fillna(-1).values\r\n",
    "# y = dataset.df['percentMEMS8'].values\r\n",
    "# print(X.shape, y.shape)\r\n",
    "\r\n",
    "# # define thresholds to check\r\n",
    "# thresholds = np.arange(0.0, 0.55, 0.05)\r\n",
    "\r\n",
    "# # apply transform with each threshold\r\n",
    "# results = list()\r\n",
    "\r\n",
    "# for t in thresholds:\r\n",
    "#     # define the transform\r\n",
    "#     transform = VarianceThreshold(threshold=t)\r\n",
    "    \r\n",
    "#     # transform the input data\r\n",
    "#     X_sel = transform.fit_transform(X)\r\n",
    "    \r\n",
    "#     # determine the number of input features\r\n",
    "#     n_features = X_sel.shape[1]\r\n",
    "#     print('>Threshold=%.2f, Numeric Features=%d' % (t, n_features))\r\n",
    "    \r\n",
    "#     # store the result\r\n",
    "#     results.append(n_features)\r\n",
    "\r\n",
    "# #plot the threshold vs the number of selected features\r\n",
    "# plt.plot(thresholds, results)\r\n",
    "# plt.show()\r\n",
    "\r\n",
    "# # Note to self - may want to set a high threshold"
   ]
  },
  {
   "cell_type": "code",
   "execution_count": null,
   "metadata": {},
   "outputs": [],
   "source": [
    "type('hello')"
   ]
  },
  {
   "cell_type": "markdown",
   "metadata": {},
   "source": [
    "# Feature Engineering"
   ]
  },
  {
   "cell_type": "markdown",
   "metadata": {},
   "source": [
    "## Static Features"
   ]
  },
  {
   "cell_type": "markdown",
   "metadata": {},
   "source": [
    "Generate static (non-temporal) features from measures such as validate instruments (e.g., FACTB)"
   ]
  },
  {
   "cell_type": "code",
   "execution_count": null,
   "metadata": {},
   "outputs": [],
   "source": [
    "''' \r\n",
    " Organize the candidate features into useful categories for later reference\r\n",
    " A bit tedious, but helpful \r\n",
    "'''\r\n",
    "\r\n",
    "# Set our excluded features, before anything else\r\n",
    "excluded = ['percentMEMS8']  # Overall adherence rate - unlikely to be used since we're building weekly vectors\r\n",
    "\r\n",
    "feat_cols = {\r\n",
    "    'demographics': [v for v in consts.RENAMINGS['demographics'].values()\r\n",
    "                     if v in dataset.df.columns] + ['race'], #add the new, single race col\r\n",
    "    'study_behavior': [col for col in ['DateEnroll', 'Group', 'complete_4', \r\n",
    "                                       'complete_8', 'memsuse', 'deceased',\r\n",
    "                                       'day_miss_fromB', 'day_miss_from7', 'total_days_8'] \r\n",
    "                       if col in dataset.df.columns],\r\n",
    "    'medical': [v for v in consts.RENAMINGS['medical'].values() if v in dataset.df.columns] + \\\r\n",
    "               [col for col in ['stage', 'early_late', 'diagtoenroll'] \r\n",
    "                if col in dataset.df.columns]\r\n",
    "}\r\n",
    "\r\n",
    "''' This dataset has several repeated measures for validated instruments, \r\n",
    "such as the FACTB\r\n",
    "\r\n",
    "Columns for repeated measures for the same instrument share a suffix (e.g., '_FACTB')\r\n",
    "Use regex to populate the `scores` category subdictionary quickly, using these suffixes\r\n",
    "''' \r\n",
    "\r\n",
    "# TODO: Fix scores so that we only have one column per score\r\n",
    "# incorporate the shift halfway through the study (i.e. midpoint assessments)\r\n",
    "\r\n",
    "for k,v in consts.SCORES.items():\r\n",
    "    ''' Handle special case of BCPT before doing anything else '''\r\n",
    "    if k == 'BCPT':\r\n",
    "        dataset.df.drop(\r\n",
    "            list(dataset.df.filter(regex = '_BCPT\\d*YN$')), \r\n",
    "            axis = 1, \r\n",
    "            inplace = True\r\n",
    "        )\r\n",
    "        dataset.df.drop(\r\n",
    "            list(dataset.df.filter(regex = '_BCPT\\d*O$')), \r\n",
    "            axis = 1, \r\n",
    "            inplace = True\r\n",
    "        )\r\n",
    "    \r\n",
    "    '''Some measures weren't precalculated in full for timepoints A, B, and C\r\n",
    "    Let's fix this ''' \r\n",
    "    if v['precalculated'] == False:\r\n",
    "        \r\n",
    "        ''' For each timepoint, get the aggregate score and add it to the dataset\r\n",
    "        as a new column'''\r\n",
    "        for prefix in ['A', 'B', 'C']:\r\n",
    "            score_cols = list(\r\n",
    "                dataset.df.filter(regex='^' + prefix + v['suffix'] + '\\d*').columns\r\n",
    "            )\r\n",
    "            dataset.df[prefix + v['suffix']] = dataset.df[score_cols].sum(axis=1)\r\n",
    "\r\n",
    "    ''' Now that we've calculated everything, get the aggregate score for each measure, \r\n",
    "    at each timepoint'''\r\n",
    "    feat_cols['scores_' + k] = list(\r\n",
    "        dataset.df.filter(regex='^[A-C]' + v['suffix'] + '$').columns\r\n",
    "    )\r\n",
    "    \r\n",
    "''' Create a catch-all category of remaining features, to ensure we got everything '''\r\n",
    "feat_cols['other'] = [col for col in dataset.df.columns \r\n",
    "                      if col not in list(itertools.chain(*feat_cols.values())) # exclude anything already in the list\r\n",
    "                      and not any(prefix in col for prefix in ['A_', 'B_', 'C_']) # exclude individual score cols\r\n",
    "                      and 'date' not in col \r\n",
    "                      and col not in dataset.id_cols\r\n",
    "                      and col not in excluded\r\n",
    "                     ]\r\n",
    "\r\n"
   ]
  },
  {
   "cell_type": "code",
   "execution_count": null,
   "metadata": {},
   "outputs": [],
   "source": [
    "''' Create new columns for several demographic and medical variables\r\n",
    "Be sure we update the feature columns dictionary '''\r\n",
    "demog_drug_cols = [col for col in dataset.df.columns if 'A_DEMO13DRUG' in col]\r\n",
    "newcol = 'DEMOG_numdrugs'\r\n",
    "dataset.df[newcol] = dataset.df[demog_drug_cols].count(axis=1)\r\n",
    "feat_cols['demographics'] = feat_cols['demographics'] + [newcol]\r\n",
    "\r\n",
    "post_exam_cols = [col for col in dataset.df.columns if 'C_MR5_date' in col]\r\n",
    "dataset.df[post_exam_cols] = dataset.df[post_exam_cols].apply(\r\n",
    "    lambda x: pd.to_datetime(x, errors='coerce')\r\n",
    ")\r\n",
    "newcol = 'C_numexams'\r\n",
    "dataset.df[newcol] = dataset.df[post_exam_cols].count(axis=1)\r\n",
    "feat_cols['medical'] = feat_cols['medical'] + [newcol]\r\n",
    "\r\n",
    "''' Thank you @benvc!\r\n",
    "https://stackoverflow.com/questions/54367491/calculate-average-of-days-between-a-list-of-dates\r\n",
    "'''\r\n",
    "\r\n",
    "newcol = 'mean_days_betw_exams'\r\n",
    "dataset.df[newcol] = dataset.df[post_exam_cols].apply(\r\n",
    "    lambda x: features.mean_days_between_dates(x),\r\n",
    "    axis=1\r\n",
    ")\r\n",
    "feat_cols['medical'] = feat_cols['medical'] + [newcol]\r\n",
    "\r\n",
    "\r\n",
    "# TODO: Dates aren't necessarily in order. Ask Kristi if this is a data entry issue or \r\n",
    "# An ordering issue?\r\n",
    "\r\n",
    "print(dataset.df['DEMOG_numdrugs'].head())\r\n",
    "print(dataset.df['C_numexams'].head())\r\n",
    "print(dataset.df['mean_days_betw_exams'].head())"
   ]
  },
  {
   "cell_type": "code",
   "execution_count": null,
   "metadata": {},
   "outputs": [],
   "source": [
    "feats_to_extract = feat_cols.copy()\r\n",
    "feats_to_extract.pop('other')\r\n",
    "static_feats = dataset.build_df_from_features(feats_to_extract)\r\n",
    "static_feats"
   ]
  },
  {
   "cell_type": "markdown",
   "metadata": {},
   "source": [
    "### Imputation & One-Hot Encoding"
   ]
  },
  {
   "cell_type": "code",
   "execution_count": null,
   "metadata": {},
   "outputs": [],
   "source": [
    "# Mode imputation for categoricals\r\n",
    "cat_cols = list(consts.CODEBOOK.keys()) + ['race'] # Don't forget race\r\n",
    "for col in cat_cols:\r\n",
    "    static_feats[col].fillna(static_feats[col].mode()[0], inplace=True)\r\n",
    "\r\n",
    "static_feats = pd.get_dummies(static_feats, columns=cat_cols) \r\n",
    "static_feats.head(10)"
   ]
  },
  {
   "cell_type": "code",
   "execution_count": null,
   "metadata": {},
   "outputs": [],
   "source": [
    "# MICE for numerics\r\n",
    "numeric_cols = list(set(list(static_feats.select_dtypes('number').columns)) -\\\r\n",
    "                    set(dataset.id_cols + ['study_week']) -\\\r\n",
    "                    set(cat_cols) # Exclude categoricals\r\n",
    "                   )\r\n",
    "imputer = IterativeImputer(random_state=5)\r\n",
    "static_feats[numeric_cols] = imputer.fit_transform(static_feats[numeric_cols])\r\n",
    "static_feats"
   ]
  },
  {
   "cell_type": "markdown",
   "metadata": {},
   "source": [
    "## Dynamic (Temporal Features)"
   ]
  },
  {
   "cell_type": "markdown",
   "metadata": {},
   "source": [
    "Extract temporal features by converting main dataset's df from wide-form to long-form."
   ]
  },
  {
   "cell_type": "code",
   "execution_count": null,
   "metadata": {},
   "outputs": [],
   "source": [
    "df = pd.DataFrame()\r\n",
    "\r\n",
    "# Get a list of all date columns\r\n",
    "date_cols = list(dataset.df.filter(regex='date\\d{3}$').columns)\r\n",
    "\r\n",
    "i = 0\r\n",
    "for col in date_cols:\r\n",
    "\r\n",
    "    ''' Find all the time cols for that date col'''\r\n",
    "    time_cols = list(dataset.df.filter(\r\n",
    "        regex='MEMS_{date_col}_time\\d{{1}}$'.format(date_col=col)).columns)  \r\n",
    "\r\n",
    "    '''\r\n",
    "        Perform a melt so we get MEMS events stratified by patient\r\n",
    "        Be sure to include the \"within range\" column as one of the id_vars\r\n",
    "    ''' \r\n",
    "    additional_cols = [\r\n",
    "        {\r\n",
    "            'original': 'MEMS_' + col + '_numtimes',\r\n",
    "            'new': 'num_times_used_today'\r\n",
    "        }\r\n",
    "    ]\r\n",
    "    if i > 0: # The first date won't have an interval or withinrange\r\n",
    "        additional_cols.append(\r\n",
    "            {\r\n",
    "                'original': 'MEMS_' + col + '_interval',\r\n",
    "                'new': 'interval'\r\n",
    "            }\r\n",
    "        )\r\n",
    "        additional_cols.append(\r\n",
    "            {\r\n",
    "                'original': 'MEMS_' + col + '_withinrange',\r\n",
    "                'new': 'adherent_today'\r\n",
    "            }\r\n",
    "        )\r\n",
    "    \r\n",
    "    all_id_cols = dataset.id_cols + ['DateEnroll', col] + [x['original'] for x in additional_cols]\r\n",
    "    \r\n",
    "    res = dataset.df[all_id_cols + time_cols].melt(id_vars = all_id_cols)\r\n",
    "    \r\n",
    "    ''' Tidy up the resulting dataframe '''\r\n",
    "    res.rename(columns={col: 'date', 'value': 'time', 'variable': 'MEMS_day'}, \r\n",
    "               inplace=True)\r\n",
    "\r\n",
    "    res['MEMS_day'] =  res['MEMS_day'].apply(lambda x: int(re.sub(r'_time\\d*$', '', x.split('MEMS_date')[1])))\r\n",
    "    \r\n",
    "    res.rename(columns={x['original']:x['new'] for x in additional_cols},\r\n",
    "               inplace=True)\r\n",
    "\r\n",
    "#     res.drop(columns=['variable'], inplace=True)\r\n",
    "    \r\n",
    "    ''' Finally, merge results into the new dataframe ''' \r\n",
    "    if df.empty:\r\n",
    "        df = res.copy()\r\n",
    "    else:\r\n",
    "        df = df.append(res, ignore_index=True)\r\n",
    "    i += 1\r\n",
    "\r\n",
    "# Create combined datetime column\r\n",
    "df['datetime'] = df.apply(\r\n",
    "    lambda x: features.get_datetime_col(x), axis=1\r\n",
    ")\r\n",
    "df['datetime'] = pd.to_datetime(df['datetime'], errors='coerce')\r\n",
    "\r\n",
    "# Fix dtypes\r\n",
    "df[['adherent_today', 'num_times_used_today']] = df[['adherent_today', 'num_times_used_today']].fillna(0).astype(int)\r\n",
    "df['date'] = pd.to_datetime(df['date'], errors='coerce')\r\n",
    "df['interval'] = pd.to_timedelta(df['interval'])\r\n",
    "\r\n",
    "\r\n",
    "# Add binary indicator of any usage (not just number of times used) on a given day\r\n",
    "df['used_today'] = df['num_times_used_today'].apply(\r\n",
    "    lambda x: 1 if x > 0 else 0\r\n",
    ")\r\n",
    "\r\n",
    "# Drop rows with an empty date column\r\n",
    "df.dropna(subset=['date'], inplace=True)\r\n",
    "\r\n",
    "'''Remove observations that occurred before a subject's enrollment date\r\n",
    "Don't remove empty observations just yet\r\n",
    "TODO: verify original  adherence rates are correct''' \r\n",
    "df = df.loc[df['DateEnroll'] < df['date']]\r\n",
    "\r\n",
    "df.head()\r\n"
   ]
  },
  {
   "cell_type": "code",
   "execution_count": null,
   "metadata": {},
   "outputs": [],
   "source": [
    "# Generate epochs of interest (time of day, weekday, day/month of study, etc)\r\n",
    "time_of_day_props = {\r\n",
    "    'bins': [-1, 6, 12, 18, 24],\r\n",
    "    'labels': ['late_night','morning', 'afternoon', 'evening']\r\n",
    "}\r\n",
    "df = features.get_epochs(df, 'DateEnroll', 'PtID',\r\n",
    "                         time_of_day_props['bins'], \r\n",
    "                         time_of_day_props['labels'])\r\n",
    "df.head()"
   ]
  },
  {
   "cell_type": "code",
   "execution_count": null,
   "metadata": {},
   "outputs": [],
   "source": []
  },
  {
   "cell_type": "code",
   "execution_count": null,
   "metadata": {},
   "outputs": [],
   "source": [
    "# Restrict to 210 days, per Kristi's documentation\r\n",
    "df = df[df['MEMS_day'] <= 210] "
   ]
  },
  {
   "cell_type": "code",
   "execution_count": null,
   "metadata": {},
   "outputs": [],
   "source": [
    "# Validate that we calculated days of adherence correctly\r\n",
    "df2 = df.groupby(dataset.id_cols + ['MEMS_day'])['adherent_today'].max().reset_index()\r\n",
    "df2 = df2.groupby(dataset.id_cols)['adherent_today'].sum().reset_index()\r\n",
    "df2 = df2.merge(dataset.df[dataset.id_cols + ['total_days_8']])\r\n",
    "df2.head(30)\r\n",
    "# Check!"
   ]
  },
  {
   "cell_type": "code",
   "execution_count": null,
   "metadata": {},
   "outputs": [],
   "source": [
    "# ---- Start our final temporal features dataframe -----------\r\n",
    "\r\n",
    "# Exclude first month (ramp-up period during which time users were getting used to the MEMS caps)\r\n",
    "df = df[df['study_month'] > 0]\r\n",
    "\r\n",
    "\r\n",
    "'''Group by our desired epoch and add standard metrics such as mean, std for a given datetime column \r\n",
    "\r\n",
    "We want to predict weekly adherence, we we'll group by the study week\r\n",
    "\r\n",
    "We could also swap this out for day or month\r\n",
    "'''\r\n",
    "groupby_cols = dataset.id_cols + ['study_week']\r\n",
    "\r\n",
    "temporal_feats = features.calc_standard_temporal_metrics(df, groupby_cols, 'datetime')\r\n",
    "\r\n",
    "''' Calculate adherence-related metrics \r\n",
    "    \r\n",
    "    Recall that participants can have multiple observations per day, and that binary indicator columns\r\n",
    "      ending in '_today' (e.g., 'adherent today') will be the same for each observation\r\n",
    "      \r\n",
    "    So we should do an extra step here to ensure we aren't counting metrics multiple times per day...\r\n",
    "'''\r\n",
    "df2 = df.groupby(groupby_cols + ['study_day'])['used_today'].max().reset_index() # Max will be 1 or 0\r\n",
    "df2 = df2.groupby(groupby_cols)['used_today'].agg({\r\n",
    "    'usage_rate': lambda x: x.sum() / consts.DAYS_IN_WEEK\r\n",
    "}).reset_index()\r\n",
    "temporal_feats = temporal_feats.merge(df2, on=groupby_cols)\r\n",
    "\r\n",
    "df2 = df.groupby(groupby_cols + ['study_day'])['adherent_today'].max().reset_index() # Max will be 1 or 0\r\n",
    "df2 = df2.groupby(groupby_cols)['adherent_today'].agg({\r\n",
    "    'adherence_rate': lambda x: x.sum() / consts.DAYS_IN_WEEK\r\n",
    "}).reset_index()\r\n",
    "temporal_feats = temporal_feats.merge(df2, on=groupby_cols)\r\n",
    "\r\n",
    "temporal_feats\r\n"
   ]
  },
  {
   "cell_type": "code",
   "execution_count": null,
   "metadata": {},
   "outputs": [],
   "source": [
    "temporal_feats.isna().any()"
   ]
  },
  {
   "cell_type": "markdown",
   "metadata": {},
   "source": [
    "### Imputation"
   ]
  },
  {
   "cell_type": "code",
   "execution_count": null,
   "metadata": {},
   "outputs": [],
   "source": [
    "# MICE for numerics\r\n",
    "numeric_cols = list(set(list(temporal_feats.select_dtypes('number').columns)) -\\\r\n",
    "                    set(dataset.id_cols + ['study_week']))\r\n",
    "imputer = IterativeImputer(random_state=5)\r\n",
    "temporal_feats[numeric_cols] = imputer.fit_transform(temporal_feats[numeric_cols])\r\n",
    "temporal_feats"
   ]
  },
  {
   "cell_type": "markdown",
   "metadata": {},
   "source": [
    "## All Features"
   ]
  },
  {
   "cell_type": "code",
   "execution_count": null,
   "metadata": {},
   "outputs": [],
   "source": [
    "all_feats = temporal_feats.merge(static_feats, on=dataset.id_cols)\r\n",
    "all_feats"
   ]
  },
  {
   "cell_type": "code",
   "execution_count": null,
   "metadata": {},
   "outputs": [],
   "source": [
    "all_feats.isnull().values.any()"
   ]
  },
  {
   "cell_type": "code",
   "execution_count": null,
   "metadata": {},
   "outputs": [],
   "source": [
    "# Drop id columns and exclude datetimes / non-numerics\r\n",
    "all_feats.drop(columns= dataset.id_cols + ['study_week'], inplace=True)\r\n",
    "all_feats = all_feats.select_dtypes('number')\r\n",
    "all_feats"
   ]
  },
  {
   "cell_type": "markdown",
   "metadata": {},
   "source": [
    "### Target Label Generation"
   ]
  },
  {
   "cell_type": "code",
   "execution_count": null,
   "metadata": {},
   "outputs": [],
   "source": [
    "# Generate target labels\r\n",
    "all_feats['adherent'] = all_feats['adherence_rate'].apply(\r\n",
    "    lambda x: 1 if x > consts.ADHERENCE_THRESHOLD else 0\r\n",
    ")\r\n",
    "\r\n",
    "all_feats.drop(columns=['adherence_rate'], inplace=True)\r\n",
    "all_feats.head(15)"
   ]
  },
  {
   "cell_type": "markdown",
   "metadata": {},
   "source": [
    "### Normalization"
   ]
  },
  {
   "cell_type": "code",
   "execution_count": null,
   "metadata": {},
   "outputs": [],
   "source": [
    "from sklearn.preprocessing import MinMaxScaler\r\n",
    "scaler = MinMaxScaler(feature_range=(0, 1))\r\n",
    "all_feats = pd.DataFrame(scaler.fit_transform(all_feats.values), \r\n",
    "                         columns=all_feats.columns, \r\n",
    "                         index=all_feats.index)\r\n",
    "all_feats"
   ]
  },
  {
   "cell_type": "markdown",
   "metadata": {},
   "source": [
    "### Sliding Window Generation"
   ]
  },
  {
   "cell_type": "code",
   "execution_count": null,
   "metadata": {},
   "outputs": [],
   "source": [
    "# TODO - fix so I'm not copying questionnaires forward for multiple timepoints\r\n",
    "data = features.generate_windows(all_feats, window_size=3, horizon_size=1)\r\n",
    "data"
   ]
  },
  {
   "cell_type": "code",
   "execution_count": null,
   "metadata": {},
   "outputs": [],
   "source": [
    "'''\r\n",
    "TODO - think about other features that are important (e.g., does month of enrollment matter?)\r\n",
    "Add sliding window code and test\r\n",
    "Figure out how to normalize heterogeneous vals\r\n",
    "Ask Kristi how they got the days of use and percentage vals...\r\n",
    "Figure out how to add in cross-validation and tuning, and upsampling in tensorflow\r\n",
    "''' "
   ]
  },
  {
   "cell_type": "markdown",
   "metadata": {},
   "source": [
    "# Modeling"
   ]
  },
  {
   "cell_type": "markdown",
   "metadata": {},
   "source": [
    "# Visualization"
   ]
  },
  {
   "cell_type": "markdown",
   "metadata": {},
   "source": [
    "# Possible research questions\n",
    "- Can MEMS data (frequency, times of day, etc) be used to predict different types of wellbeing? (e.g., social wellbeing)\n",
    "- Can demographic + wellbeing data at baseline (does it have to just be at baseline?) be used to predict long-term adherence?\n",
    "\n",
    "- Worth looking at both of these?\n",
    "\n",
    "- What are the most important determinants of adherence? wellbeing? demographics?\n",
    "- What kind of phenotypes emerge?"
   ]
  },
  {
   "cell_type": "code",
   "execution_count": null,
   "metadata": {},
   "outputs": [],
   "source": [
    "# Get average scores for assessments that were administered at multiple timepoints\n",
    "for k,v in scores.items():\n",
    "    newcol = k + '_mean'\n",
    "    \n",
    "    # Filtering is necessary here since the FACT-B and FACT-G item-by-item scores are included in the dataset\n",
    "    data[newcol] = data[feat_cols['scores'][k]].mean(axis=1)\n",
    "    \n",
    "    # Be sure to include this new \"mean\" column in our list of feature columns for this score\n",
    "    feat_cols['scores'][k].append(newcol)"
   ]
  },
  {
   "cell_type": "code",
   "execution_count": null,
   "metadata": {},
   "outputs": [],
   "source": [
    "mean_scores_df = data[[col for col in data.columns if 'mean' in col]]\n",
    "\n",
    "for col in mean_scores_df.columns:\n",
    "    fig, ax = plt.subplots()\n",
    "    s = mean_scores_df[col]\n",
    "    print(scipy.stats.describe(s))\n",
    "    print('25th Percentile: ' + str(np.percentile(s, 25)))\n",
    "    print('75th Percentile: ' + str(np.percentile(s, 75)))\n",
    "    print('median: ' + str(s.median()))\n",
    "    sns.distplot(s)\n",
    "    plt.show()\n",
    "    \n",
    "# Most scores skewed toward higher quality of life. Use Median when dividing them up into 'high/low'\n"
   ]
  },
  {
   "cell_type": "code",
   "execution_count": null,
   "metadata": {},
   "outputs": [],
   "source": [
    "# TODO: Ask Kristi about any stat results they've already completed\n",
    "df = mems_df['PtID'].value_counts().reset_index(name='n_mems_events')\n",
    "df.rename(columns={'index': 'PtID'}, inplace=True)\n",
    "\n",
    "df2 = data[['PtID'] + [col for col in data.columns if 'mean' in col]]\n",
    "for col in df2.columns[1:]:\n",
    "    df[col + '_group'] = df2[col].apply(lambda x: 'low' if x < df2[col].median() else 'high')\n",
    "\n",
    "df = df.merge(df2, on='PtID')\n",
    "\n",
    "group_cols = [col for col in df.columns if 'group' in col]\n",
    "\n",
    "for col in group_cols:\n",
    "    df3 = df.groupby([col])['n_mems_events'].mean().reset_index(name='avg_n_mems_events')\n",
    "    print(df[col].value_counts())\n",
    "    sns.barplot(y='avg_n_mems_events', x=col, data=df3)\n",
    "    plt.show()"
   ]
  },
  {
   "cell_type": "markdown",
   "metadata": {},
   "source": [
    "### Demographics"
   ]
  },
  {
   "cell_type": "code",
   "execution_count": null,
   "metadata": {},
   "outputs": [],
   "source": [
    "# Get a demographics dataframe with meaningful labels\n",
    "dem_df = data[feat_cols['demographics']]\n",
    "for col in dem_df.columns:\n",
    "    dem_df[col] = dem_df[col].map(codebook[col])\n",
    "    \n",
    "dem_df"
   ]
  },
  {
   "cell_type": "code",
   "execution_count": null,
   "metadata": {},
   "outputs": [],
   "source": [
    "for col in dem_df.columns:\n",
    "\n",
    "    df = dem_df.groupby(\n",
    "        col\n",
    "    ).size().reset_index(name='N').sort_values(by=['N'], ascending=False)\n",
    "    df\n",
    "\n",
    "    pie, ax = plt.subplots(figsize=[10,6])\n",
    "    labels = df[col]\n",
    "    plt.pie(x=df['N'], autopct=\"%.1f%%\", labels=labels, pctdistance=0.5)\n",
    "    plt.title(col.capitalize(), fontsize=14);\n",
    "    # pie.savefig('results/figures/demographics_edu.png', bbox_inches=\"tight\")\n",
    "\n",
    "    df['percentage'] = round(100 * df['N'] / df['N'].sum(), 0)\n",
    "    # df.to_csv('results/tables/demographics_edu.csv')\n",
    "    df"
   ]
  }
 ],
 "metadata": {
  "kernelspec": {
   "display_name": "bcpn_mems",
   "language": "python",
   "name": "bcpn_mems"
  },
  "language_info": {
   "codemirror_mode": {
    "name": "ipython",
    "version": 3
   },
   "file_extension": ".py",
   "mimetype": "text/x-python",
   "name": "python",
   "nbconvert_exporter": "python",
   "pygments_lexer": "ipython3",
   "version": "3.7.4"
  }
 },
 "nbformat": 4,
 "nbformat_minor": 2
}
