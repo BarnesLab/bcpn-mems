{
 "cells": [
  {
   "cell_type": "markdown",
   "metadata": {},
   "source": [
    "# Loading"
   ]
  },
  {
   "cell_type": "code",
   "execution_count": null,
   "metadata": {},
   "outputs": [],
   "source": [
    "# IO\n",
    "from pathlib import Path\n",
    "try:\n",
    "    import cPickle as pickle\n",
    "except ModuleNotFoundError:\n",
    "    import pickle\n",
    "\n",
    "# Utility Libraries\n",
    "import math\n",
    "from datetime import datetime\n",
    "import re\n",
    "import csv\n",
    "import itertools\n",
    "\n",
    "# Data Processing\n",
    "import pandas as pd\n",
    "import numpy as np\n",
    "\n",
    "# Predictive Analytics\n",
    "import statsmodels.stats.api as sms\n",
    "from sklearn.feature_selection import VarianceThreshold\n",
    "from sklearn.experimental import enable_iterative_imputer\n",
    "from sklearn.impute import IterativeImputer\n",
    "from sklearn.model_selection import GridSearchCV\n",
    "from sklearn.model_selection import LeaveOneGroupOut\n",
    "from imblearn.over_sampling import SMOTE\n",
    "from sklearn.ensemble import RandomForestClassifier\n",
    "from sklearn.metrics import accuracy_score, f1_score, precision_score, recall_score\n",
    "from bcpn_pipeline import data, features, models, consts\n",
    "import shap\n",
    "\n",
    "# Viz\n",
    "%matplotlib inline\n",
    "import matplotlib as mpl\n",
    "from matplotlib.dates import DateFormatter\n",
    "from matplotlib.cbook import boxplot_stats\n",
    "import matplotlib.dates as mdates\n",
    "import matplotlib.transforms as mtrans\n",
    "import seaborn as sns\n",
    "sns.set_style(\"whitegrid\")\n",
    "\n",
    "import matplotlib.pyplot as plt\n",
    "plt.rcParams.update({'figure.autolayout': True})\n",
    "# plt.rcParams.update({'figure.facecolor': [1.0, 1.0, 1.0, 1.0]})\n",
    "\n",
    "# configure autoreloading of modules\n",
    "%load_ext autoreload\n",
    "%autoreload 2\n"
   ]
  },
  {
   "cell_type": "code",
   "execution_count": null,
   "metadata": {},
   "outputs": [],
   "source": [
    "# Load the data\n",
    "# datafile = Path(\"data/final_merged_set_v6.csv\")\n",
    "datafile = Path(\"/mnt/c/Users/anbag/Box Sync/Research/UVA/Medication Adherance/MEMS dataset/final_merged_set_v6.csv\")\n",
    "df = pd.read_csv(datafile, parse_dates=False)\n",
    "df.head()"
   ]
  },
  {
   "cell_type": "markdown",
   "metadata": {},
   "source": [
    "# Data Cleaning & Feature Engineering\n",
    "Thank you to Jason Brownlee\n",
    "https://machinelearningmastery.com/basic-data-cleaning-for-machine-learning/"
   ]
  },
  {
   "cell_type": "code",
   "execution_count": null,
   "metadata": {},
   "outputs": [],
   "source": [
    "# Instantiate a Dataset class\n",
    "dataset = data.Dataset(df, id_col = 'PtID')\n",
    "dataset"
   ]
  },
  {
   "cell_type": "code",
   "execution_count": null,
   "metadata": {},
   "outputs": [],
   "source": [
    "# -------- Perform an initial cleaning of the dataset ----------\n",
    "dataset.clean(to_rename = {**consts.RENAMINGS['demographics'], \n",
    "                             **consts.RENAMINGS['medical']}, \n",
    "              to_drop=[col for col in dataset.df.columns if '_Name' in col] + \n",
    "                      ['MemsNum', 'Monitor'],\n",
    "              to_map = consts.CODEBOOK,\n",
    "              to_binarize = ['race_other'],\n",
    "              onehots_to_reverse = ['race_']\n",
    "             )\n",
    "\n",
    "''' Set dtypes on remaining columns\n",
    "For now, naively assume we only have numerics, datetimes, or objects\n",
    "'''\n",
    "dtypes_dict = {\n",
    "    'numeric': [col for col in dataset.df.columns if 'date' not in col.lower()],\n",
    "    'datetime': ['DateEnroll'],\n",
    "    'categorical': list(consts.CODEBOOK.keys()) + ['race']\n",
    "}\n",
    "\n",
    "dataset.set_dtypes(dtypes_dict)\n",
    "dataset.df.head()"
   ]
  },
  {
   "cell_type": "markdown",
   "metadata": {},
   "source": [
    "## Static Features"
   ]
  },
  {
   "cell_type": "markdown",
   "metadata": {},
   "source": [
    "Generate static (non-temporal) features from measures such as validate instruments (e.g., FACTB)"
   ]
  },
  {
   "cell_type": "markdown",
   "metadata": {},
   "source": [
    "### Organize candidate features"
   ]
  },
  {
   "cell_type": "code",
   "execution_count": null,
   "metadata": {},
   "outputs": [],
   "source": [
    "''' \n",
    " Organize the candidate features into useful categories for later reference\n",
    " A bit tedious, but helpful \n",
    "'''\n",
    "feat_categories = {\n",
    "    'demographics': [v for v in consts.RENAMINGS['demographics'].values()\n",
    "                     if v in dataset.df.columns] + ['race'], #add the new, single race col\n",
    "    'medical': [v for v in consts.RENAMINGS['medical'].values() if v in dataset.df.columns] + \\\n",
    "               [col for col in ['early_late', 'diagtoenroll'] \n",
    "                if col in dataset.df.columns],\n",
    "    'scores': []\n",
    "}\n",
    "feat_categories"
   ]
  },
  {
   "cell_type": "code",
   "execution_count": null,
   "metadata": {},
   "outputs": [],
   "source": [
    "''' This dataset has several repeated measures for validated instruments, \n",
    "such as the FACTB\n",
    "\n",
    "Columns for repeated measures for the same instrument share a suffix (e.g., '_FACTB')\n",
    "Use regex to populate the `scores` category subdictionary quickly, using these suffixes\n",
    "''' \n",
    "\n",
    "for k,v in consts.SCORES.items():\n",
    "    \n",
    "    #  Handle special case of BCPT before doing anything else\n",
    "    if k == 'BCPT':\n",
    "        dataset.df.drop(\n",
    "            list(dataset.df.filter(regex = '_BCPT\\d*YN$')), \n",
    "            axis = 1, \n",
    "            inplace = True\n",
    "        )\n",
    "        dataset.df.drop(\n",
    "            list(dataset.df.filter(regex = '_BCPT\\d*O$')), \n",
    "            axis = 1, \n",
    "            inplace = True\n",
    "        )\n",
    "    for prefix in consts.SCORE_PREFIXES:\n",
    "        # Some measures weren't precalculated. Let's fix this.  \n",
    "        if v['precalculated'] == False:\n",
    "\n",
    "            #  Get the aggregate score and add it to the dataset as a new column\n",
    "\n",
    "                score_cols = list(\n",
    "                    dataset.df.filter(regex='^' + prefix + v['suffix'] + '\\d*').columns\n",
    "                )\n",
    "\n",
    "                dataset.df[prefix + v['suffix']] = dataset.df[score_cols].sum(axis=1)\n",
    "\n",
    "        #  We'll include this new column as a feature\n",
    "        feat_categories['scores'] += [prefix + v['suffix']]"
   ]
  },
  {
   "cell_type": "code",
   "execution_count": null,
   "metadata": {},
   "outputs": [],
   "source": [
    "''' Create a catch-all category of remaining features, to ensure we got everything '''\n",
    "other_feats = [col for col in dataset.df.columns \n",
    "              if col not in list(itertools.chain(*feat_categories.values())) # exclude anything already in the list\n",
    "              and not any(prefix in col for prefix in ['A_', 'B_', 'C_']) # exclude individual score cols\n",
    "              and 'date' not in col \n",
    "              and col not in dataset.id_col\n",
    "             ]\n",
    "\n",
    "other_feats"
   ]
  },
  {
   "cell_type": "markdown",
   "metadata": {},
   "source": [
    "### Generate new features"
   ]
  },
  {
   "cell_type": "code",
   "execution_count": null,
   "metadata": {},
   "outputs": [],
   "source": [
    "''' Create new columns for demographic and medical variables\n",
    "Be sure we update the feature categories dictionary '''\n",
    "\n",
    "demog_drug_cols = [col for col in dataset.df.columns if 'A_DEMO13DRUG' in col]\n",
    "newcol = 'DEMOG_numdrugs'\n",
    "dataset.df[newcol] = dataset.df[demog_drug_cols].count(axis=1)\n",
    "feat_categories['demographics'] += [newcol]\n",
    "print(dataset.df['DEMOG_numdrugs'].head())\n",
    "feat_categories\n",
    "\n",
    "# Removed post-exam cols - DUH"
   ]
  },
  {
   "cell_type": "markdown",
   "metadata": {},
   "source": [
    "### Create featuresets"
   ]
  },
  {
   "cell_type": "code",
   "execution_count": null,
   "metadata": {},
   "outputs": [],
   "source": [
    "static_featuresets = list()\n",
    "\n",
    "'''Create two distinct featuresets - one with demographics + med record data,\n",
    "   and one with scores '''\n",
    "fs_combos = [['demographics', 'medical'], ['scores']]\n",
    "\n",
    "for combo in fs_combos:\n",
    "    feat_cats_subset = {k:v for k,v in feat_categories.items() if k in combo}\n",
    "    df = data.build_df_from_feature_categories(dataset.df, feat_cats_subset, dataset.id_col)\n",
    "    \n",
    "    ''' We have scores at baseline (0 months), mid-study (4 months) and post-study (8 months).\n",
    "        Here, we are going to reshape the data so dataframe is long-form, with three observations per subject\n",
    "        (at 0 months, 4 months, and 8 months, respectively).\n",
    "        \n",
    "        We are also going to create a column that indicates the time period(s) for which we want to\n",
    "        predict adherence. Per Navreet's documentation, surveys at the 4- and 8-month time points \n",
    "        asked about experiences in the PAST. So, for the 0-month observations, we will predict \n",
    "        some immediate future adherence value(s).But for the 4- and 8-month observations, we will \n",
    "        predict some immediate PAST adherence value(s).\n",
    "    '''\n",
    "    if 'scores' in combo:\n",
    "        dfs = []\n",
    "        \n",
    "        for prefix in consts.SCORE_PREFIXES:\n",
    "            i = consts.SCORE_PREFIXES.index(prefix)\n",
    "            df2= df[['PtID'] + [col for col in df.columns if prefix in col]]\n",
    "            df2.columns = df2.columns.str.replace(prefix, '')\n",
    "        \n",
    "            if i == 0:\n",
    "                df2['study_day'] = 0\n",
    "                df2['study_month'] = 0\n",
    "            elif i == 1: # Prefix B_, the 4-month surveys; predict into the past\n",
    "                df2['study_day'] = 119\n",
    "                df2['study_month'] = 3\n",
    "            else: # Prefix C_, the 8-month surveys; predict into the past\n",
    "                df2['study_day'] = 239\n",
    "                df2['study_month'] = 7\n",
    "            dfs.append(df2)\n",
    "\n",
    "        df = pd.concat(dfs, axis=0, ignore_index=True)\n",
    "        \n",
    "        ''' Remove participants who didn't complete all three questionnaires \n",
    "        Thank you Wes McKinney\n",
    "        https://stackoverflow.com/questions/14016247/find-integer-index-of-rows-with-nan-in-pandas-dataframe\n",
    "        '''\n",
    "        idx = pd.isnull(df).any(1).to_numpy().nonzero()[0]\n",
    "        ptids_to_exclude = list(df.iloc[idx, :]['PtID'].unique())\n",
    "        df = df.loc[~df['PtID'].isin(ptids_to_exclude)]\n",
    "    \n",
    "    else:\n",
    "        for horizon in consts.TARGET_HORIZONS:\n",
    "            df[horizon] = 0\n",
    "    static_featuresets.append(features.Featureset(df=df, name=' + '.join(combo), id_col = dataset.id_col))\n",
    "        \n",
    "static_featuresets"
   ]
  },
  {
   "cell_type": "markdown",
   "metadata": {},
   "source": [
    "## Dynamic (Temporal) Features"
   ]
  },
  {
   "cell_type": "markdown",
   "metadata": {},
   "source": [
    "Extract temporal features by converting main dataset's df from wide-form to long-form."
   ]
  },
  {
   "cell_type": "code",
   "execution_count": null,
   "metadata": {},
   "outputs": [],
   "source": [
    "rows = []\n",
    "# Get a list of all date columns\n",
    "date_cols = list(dataset.df.filter(regex='date\\d{3}$').columns)\n",
    "\n",
    "i = 0\n",
    "for col in date_cols:\n",
    "\n",
    "    # Find all the time cols for that date col\n",
    "    time_cols = list(dataset.df.filter(\n",
    "        regex='MEMS_{date_col}_time\\d{{1}}$'.format(date_col=col)).columns)  \n",
    "\n",
    "    ''' Perform a melt so we get MEMS events stratified by patient\n",
    "        Be sure to include the \"within range\" column as one of the id_vars''' \n",
    "    additional_cols = [\n",
    "        {\n",
    "            'original': 'MEMS_' + col + '_numtimes',\n",
    "            'new': 'num_times_used_today'\n",
    "        }\n",
    "    ]\n",
    "    if i > 0: # The first date won't have an interval or withinrange\n",
    "        additional_cols.append(\n",
    "            {\n",
    "                'original': 'MEMS_' + col + '_interval',\n",
    "                'new': 'interval'\n",
    "            }\n",
    "        )\n",
    "        additional_cols.append(\n",
    "            {\n",
    "                'original': 'MEMS_' + col + '_withinrange',\n",
    "                'new': 'withinrange'\n",
    "            }\n",
    "        )\n",
    "    \n",
    "    all_id_col = [dataset.id_col, 'DateEnroll', col] + [x['original'] for x in additional_cols]\n",
    "    \n",
    "    res = dataset.df[all_id_col + time_cols].melt(id_vars = all_id_col)\n",
    "    \n",
    "    # Tidy up the resulting dataframe\n",
    "    res.rename(columns={col: 'date', 'value': 'time', 'variable': 'MEMS_day'}, \n",
    "               inplace=True)\n",
    "\n",
    "    res['MEMS_day'] =  res['MEMS_day'].apply(lambda x: int(re.sub(r'_time\\d*$', '', x.split('MEMS_date')[1])))\n",
    "    \n",
    "    res.rename(columns={x['original']:x['new'] for x in additional_cols},\n",
    "               inplace=True)\n",
    "\n",
    "#     res.drop(columns=['variable'], inplace=True)\n",
    "    \n",
    "    rows.append(res) # TODO - double check this...getting a weird warning about index alignment\n",
    "    i += 1\n",
    "\n",
    "df = pd.concat(rows, axis=0)\n",
    "\n",
    "# Create combined datetime column\n",
    "df['datetime'] = df.apply(\n",
    "    lambda x: features.get_datetime_col(x), axis=1\n",
    ")\n",
    "df['datetime'] = pd.to_datetime(df['datetime'], errors='coerce')\n",
    "\n",
    "# Fix dtypes\n",
    "df[['withinrange', 'num_times_used_today']] = df[['withinrange', 'num_times_used_today']].fillna(0).astype(int)\n",
    "df['date'] = pd.to_datetime(df['date'], errors='coerce')\n",
    "df['interval'] = pd.to_timedelta(df['interval']) # Handle NaT intervals for first day?\n",
    "\n",
    "'''Drop rows with an empty date column.\n",
    "  Do NOT drop empty time columns - may have dates where it is recorded that the patient\n",
    "  did not use the cap. So, would have a date but no time. Need this info to calculate\n",
    "  additional stats later\n",
    "''' \n",
    "df.dropna(subset=['date'], inplace=True)\n",
    "\n",
    "# Drop duplicates - these must have been introduced with the melt and with how Kristi's original data was structured\n",
    "df.drop_duplicates(inplace=True)\n",
    "\n",
    "# Remove observations that occurred before a subject's enrollment date\n",
    "df = df.loc[df['DateEnroll'] < df['date']]"
   ]
  },
  {
   "cell_type": "markdown",
   "metadata": {},
   "source": [
    "### Generate new features"
   ]
  },
  {
   "cell_type": "code",
   "execution_count": null,
   "metadata": {},
   "outputs": [],
   "source": [
    "# Add binary indicator of any usage (not just number of times used) on a given day\n",
    "df['used_today'] = df['num_times_used_today'].apply(\n",
    "    lambda x: 1 if x > 0 else 0\n",
    ")\n",
    "\n",
    "'''Generate horizons of interest (time of day, weekday, day/month of study, etc)\n",
    "   'time_of_day' category gets automatically encoded as a Categorical\n",
    "''' \n",
    "time_of_day_props = {\n",
    "    'bins': [-1, 6, 12, 18, 24],\n",
    "    'labels': ['early_morning', 'morning', 'afternoon', 'evening']\n",
    "}\n",
    "horizons_df = features.get_temporal_feats(df, 'DateEnroll', 'PtID',\n",
    "                                          time_of_day_props['bins'], \n",
    "                                          time_of_day_props['labels'])\n",
    "horizons_df.head()\n",
    "\n",
    "# TODO - figure out a way to use the times of day? Not currently being used"
   ]
  },
  {
   "cell_type": "code",
   "execution_count": null,
   "metadata": {},
   "outputs": [],
   "source": [
    "''' Quick fix for duplicates that are introduced...\n",
    "      not sure of a better way to do this yet'''\n",
    "df = horizons_df[horizons_df.duplicated(['PtID', 'study_day', 'interval'])]\n",
    "df = df[df['num_times_used_today'] <= 1]\n",
    "horizons_df.drop(df.index, axis=0, inplace=True)\n",
    "horizons_df"
   ]
  },
  {
   "cell_type": "code",
   "execution_count": null,
   "metadata": {},
   "outputs": [],
   "source": [
    "temporal_featuresets = list()\n",
    "'''Group by our desired horizon and add standard metrics such as mean, std\n",
    "'''\n",
    "\n",
    "for horizon in consts.TARGET_HORIZONS:\n",
    "    nominal_cols = []\n",
    "    groupby_cols = [dataset.id_col, horizon]\n",
    "    \n",
    "    df = horizons_df.groupby(groupby_cols)['datetime'].agg({\n",
    "        'n_events': 'count'\n",
    "    }).reset_index()\n",
    "    \n",
    "    if horizon == 'study_day':\n",
    "        c = ['is_weekday']\n",
    "        df2 = horizons_df[groupby_cols + c]\n",
    "        df = df.merge(df2, on=groupby_cols)\n",
    "        nominal_cols += c\n",
    "    else:\n",
    "        if horizon == 'study_week':\n",
    "            denom = consts.DAYS_IN_WEEK\n",
    "        else:\n",
    "            denom = consts.DAYS_IN_MONTH\n",
    "        \n",
    "        df2 = features.calc_standard_temporal_metrics(horizons_df, groupby_cols, 'datetime')\n",
    "        df = df.merge(df2, on=groupby_cols)\n",
    "\n",
    "        # Calculate avg and standard deviation of number of times used\n",
    "        df2 = horizons_df.groupby(groupby_cols + ['study_day'])['num_times_used_today'].max().reset_index()\n",
    "        df2 = horizons_df.groupby(groupby_cols)['num_times_used_today'].agg({\n",
    "            'num_daily_events_mean': lambda x: x.sum() / denom\n",
    "        }).reset_index()\n",
    "        df = df.merge(df2, on=groupby_cols)\n",
    "\n",
    "        # Get most common time of day of event occurence\n",
    "        c = 'event_time_of_day_mode'\n",
    "        df2 = horizons_df.groupby(groupby_cols)['time_of_day'].agg({\n",
    "            c: pd.Series.mode\n",
    "        }).reset_index().drop(columns=['level_2'])\n",
    "        df = df.merge(df2, on=groupby_cols)\n",
    "        nominal_cols += [c]\n",
    "\n",
    "    # Calculate adherence rate\n",
    "    if 'day' in horizon:\n",
    "        df2 = horizons_df.groupby(groupby_cols)['withinrange'].agg({\n",
    "            'adherence_rate': 'max'\n",
    "        }).reset_index()\n",
    "    else:\n",
    "        df2 = horizons_df.groupby(groupby_cols + ['study_day'])['withinrange'].max().reset_index() # Max will be 1 or 0\n",
    "        df2 = df2.groupby(groupby_cols)['withinrange'].agg({\n",
    "            'adherence_rate': lambda x: x.sum() / denom\n",
    "        }).reset_index()\n",
    "    \n",
    "    df = df.merge(df2, on=groupby_cols)\n",
    "    \n",
    "    # Help pandas since it doesn't process datetimes well and introduces duplicate entries on merges\n",
    "    df = df.drop_duplicates(subset=groupby_cols)\n",
    "    \n",
    "    # Finally, create a featureset from the resulting dataframe\n",
    "    temporal_featuresets.append(features.Featureset(df=df,\n",
    "                                                    name=horizon, #Intentional for now - using horizon as name\n",
    "                                                    id_col=dataset.id_col,\n",
    "                                                    horizon=horizon,\n",
    "                                                    nominal_cols = nominal_cols\n",
    "                                                   )\n",
    "                               )\n",
    "temporal_featuresets"
   ]
  },
  {
   "cell_type": "code",
   "execution_count": null,
   "metadata": {},
   "outputs": [],
   "source": [
    "temporal_featuresets[2].nominal_cols"
   ]
  },
  {
   "cell_type": "markdown",
   "metadata": {},
   "source": [
    "# Prediction"
   ]
  },
  {
   "cell_type": "code",
   "execution_count": null,
   "metadata": {},
   "outputs": [],
   "source": [
    "# Sanity check - this column should NOT be in the final set\n",
    "# static_featuresets[0].df['total_days_8']"
   ]
  },
  {
   "cell_type": "code",
   "execution_count": null,
   "metadata": {},
   "outputs": [],
   "source": [
    "target_col = 'adherent'\n",
    "\n",
    "'''Set the target columns on the temporal featuresets\n",
    "   This step should be run before doing any experiments\n",
    "''' \n",
    "for t_feats in temporal_featuresets:\n",
    "    \n",
    "    #Convert adherence_rate into a binary indicator of adherence\n",
    "    t_feats.df[target_col] = t_feats.df['adherence_rate'].apply(\n",
    "        lambda x: 1 if x > consts.ADHERENCE_THRESHOLD else 0\n",
    "    )\n",
    "    # Drop the original column\n",
    "    t_feats.df.drop(columns=['adherence_rate'], inplace=True)\n",
    "\n",
    "    # Set the target col\n",
    "    t_feats.target_col = target_col"
   ]
  },
  {
   "cell_type": "markdown",
   "metadata": {},
   "source": [
    "## Study 1: Predict Adherence from Demographic and Med Record Data"
   ]
  },
  {
   "cell_type": "code",
   "execution_count": null,
   "metadata": {},
   "outputs": [],
   "source": [
    "# TODO: This is massively overfitting right now...need to come up with a new strategy\n",
    "# for feature selection, etc.\n",
    "# Putting this part on hold for now\n",
    "\n",
    "# all_results = []\n",
    "# horizons = ['study_day', 'study_week', 'study_month']\n",
    "\n",
    "# for s_feats in static_featuresets:\n",
    "#     for t_feats in temporal_featuresets:\n",
    "            \n",
    "#         # Create a combined featureset\n",
    "#         if s_feats.name != 'scores' or t_feats.horizon != 'study_week':\n",
    "            \n",
    "#             if s_feats.name != 'scores':\n",
    "\n",
    "#                 ''' If predicting from anything other than the scores, \n",
    "#                     add a column for the next immediate time period\n",
    "#                     that we want to predict (e.g., adherence for the first day of the study).'''\n",
    "\n",
    "#                 s_feats.df[t_feats.horizon] = t_feats.df[t_feats.horizon].min()\n",
    "            \n",
    "    \n",
    "#             df = s_feats.df.merge(t_feats.df[[t_feats.id_col, t_feats.horizon, t_feats.target_col]], \n",
    "#                                   on=[s_feats.id_col, t_feats.horizon])\n",
    "#             df.drop(columns=[col for col in df.columns if col in consts.TARGET_HORIZONS], inplace=True)\n",
    "\n",
    "#             all_feats = features.Featureset(df=df, name=t_feats.name + ' - ' + s_feats.name, id_col=t_feats.id_col, \n",
    "#                                             target_col=t_feats.target_col, horizon=t_feats.horizon)\n",
    "#             all_feats.prep_for_modeling()\n",
    "#             res = models.predict(all_feats, classifiers=['LogisticR', 'RF', 'XGB'], optimize=True)\n",
    "#             all_results.append(res)   \n"
   ]
  },
  {
   "cell_type": "markdown",
   "metadata": {},
   "source": [
    "## Study 2: Predict Adherence from MEMS Data"
   ]
  },
  {
   "cell_type": "markdown",
   "metadata": {},
   "source": [
    "### Tune number of lags"
   ]
  },
  {
   "cell_type": "code",
   "execution_count": null,
   "metadata": {},
   "outputs": [],
   "source": [
    "target_col = 'adherent'\n",
    "results = []\n",
    "\n",
    "# Test the model performance for a range of lags (number of previous inputs)\n",
    "# temporal_featuresets = [fs for fs in temporal_featuresets if fs.name != 'study_month']\n",
    "for t_feats in temporal_featuresets:\n",
    "    \n",
    "    # Exclude first month (ramp-up period during which time users were getting used to the MEMS caps)\n",
    "    if t_feats.horizon == 'study_day':\n",
    "        exclusion_thresh = 30 # TODO - remove these magic numbers throughout pipeline, later\n",
    "    elif t_feats.horizon == 'study_week':\n",
    "        exclusion_thresh = 4\n",
    "    elif t_feats.horizon == 'study_month':\n",
    "        exclusion_thresh = 1\n",
    "    \n",
    "    t_feats.df = t_feats.df[t_feats.df[t_feats.horizon] > exclusion_thresh]\n",
    "    \n",
    "    # Ensure we don't end up with a tiny feature set!\n",
    "    if t_feats.horizon == 'study_month':\n",
    "        lag_range = range(1, 5)\n",
    "    else:\n",
    "        lag_range = range(1, 17)\n",
    "    \n",
    "    for n_lags in lag_range:\n",
    "        print('For ' + str(n_lags) + ' lags...')\n",
    "\n",
    "        #Perform final encoding, scaling, etc\n",
    "        all_feats = t_feats.prep_for_modeling(n_lags)\n",
    "        \n",
    "        # Ensure we got a lagged series as expected\n",
    "        print(all_feats.df)\n",
    "\n",
    "        # Do 10 runs per lag\n",
    "        print('Running prediction 10 times...')\n",
    "        for i in range(0,10):\n",
    "\n",
    "            # Do our actual predictions\n",
    "            # Use defaults in this go-round, rather than gridsearch\n",
    "            res = models.predict(all_feats, n_lags, classifiers=['RF'], random_state=i, optimize=False, importance=False)\n",
    "#             print(res)\n",
    "            results.append(res)\n",
    "\n",
    "all_res = pd.concat(results, axis=0)\n",
    "all_res.to_csv('results/tuned_lags.csv',index=False)"
   ]
  },
  {
   "cell_type": "code",
   "execution_count": null,
   "metadata": {},
   "outputs": [],
   "source": [
    "results = pd.read_csv('results/tuned_lags.csv')\n",
    "results"
   ]
  },
  {
   "cell_type": "code",
   "execution_count": null,
   "metadata": {},
   "outputs": [],
   "source": [
    "results = results[['featureset', 'n_lags', 'test_accuracy', 'train_accuracy']]\n",
    "results = results.melt(id_vars=['featureset', 'n_lags'])\n",
    "results.rename(columns={'variable': 'acc_type', 'value': 'accuracy'}, inplace=True)\n",
    "results['acc_type'] = results['acc_type'].apply(lambda x: x.split('_')[0])\n",
    "results"
   ]
  },
  {
   "cell_type": "code",
   "execution_count": null,
   "metadata": {},
   "outputs": [],
   "source": [
    "'''Indicates that epochs beyond next-day prediction are overfitting.\n",
    "Let's see if the same thing happens when we drop prior adherence?\n",
    "Meanwhile, just get daily predictions for now.\n",
    "'''\n",
    "\n",
    "sns.lineplot(x='n_lags',y='accuracy', hue='featureset', style='acc_type', data=results)"
   ]
  },
  {
   "cell_type": "markdown",
   "metadata": {},
   "source": [
    "### Tune number of lags, but with no lagged target"
   ]
  },
  {
   "cell_type": "code",
   "execution_count": null,
   "metadata": {},
   "outputs": [],
   "source": [
    "target_col = 'adherent'\n",
    "results = []\n",
    "\n",
    "# Test the model performance for a range of lags (number of previous inputs)\n",
    "# temporal_featuresets = [fs for fs in temporal_featuresets if fs.name != 'study_month']\n",
    "for t_feats in temporal_featuresets:\n",
    "    \n",
    "    # Exclude first month (ramp-up period during which time users were getting used to the MEMS caps)\n",
    "    if t_feats.horizon == 'study_day':\n",
    "        exclusion_thresh = 30 # TODO - remove these magic numbers throughout pipeline, later\n",
    "    elif t_feats.horizon == 'study_week':\n",
    "        exclusion_thresh = 4\n",
    "    elif t_feats.horizon == 'study_month':\n",
    "        exclusion_thresh = 1\n",
    "    \n",
    "    t_feats.df = t_feats.df[t_feats.df[t_feats.horizon] > exclusion_thresh]\n",
    "    \n",
    "    # Ensure we don't end up with a tiny feature set!\n",
    "    if t_feats.horizon == 'study_month':\n",
    "        lag_range = range(1, 5)\n",
    "    else:\n",
    "        lag_range = range(1, 17)\n",
    "    \n",
    "    for n_lags in lag_range:\n",
    "        print('For ' + str(n_lags) + ' lags...')\n",
    "\n",
    "        #Perform final encoding, scaling, etc\n",
    "        all_feats = t_feats.prep_for_modeling(n_lags)\n",
    "        \n",
    "        # Drop all prior targets, but leave the one we want to predict intact\n",
    "        all_feats.df.drop(columns=[col for col in all_feats.df.columns \n",
    "                                   if target_col in col and '(t' in col], \n",
    "                          inplace=True)\n",
    "\n",
    "        # Do 10 runs per lag\n",
    "        print('Running prediction 10 times...')\n",
    "        for i in range(0,10):\n",
    "\n",
    "            # Do our actual predictions\n",
    "            # Use defaults in this go-round, rather than gridsearch\n",
    "            res = models.predict(all_feats, n_lags, classifiers=['RF'], random_state=i, optimize=False, importance=False)\n",
    "#             print(res)\n",
    "            results.append(res)\n",
    "\n",
    "all_res = pd.concat(results, axis=0)\n",
    "all_res.to_csv('results/tuned_lags_no_prior_target.csv',index=False)"
   ]
  },
  {
   "cell_type": "code",
   "execution_count": null,
   "metadata": {},
   "outputs": [],
   "source": [
    "results = pd.read_csv('results/tuned_lags_no_prior_target.csv')\n",
    "results"
   ]
  },
  {
   "cell_type": "code",
   "execution_count": null,
   "metadata": {},
   "outputs": [],
   "source": [
    "results = results[['featureset', 'n_lags', 'test_accuracy', 'train_accuracy']]\n",
    "results = results.melt(id_vars=['featureset', 'n_lags'])\n",
    "results.rename(columns={'variable': 'acc_type', 'value': 'accuracy'}, inplace=True)\n",
    "results['acc_type'] = results['acc_type'].apply(lambda x: x.split('_')[0])\n",
    "results"
   ]
  },
  {
   "cell_type": "code",
   "execution_count": null,
   "metadata": {},
   "outputs": [],
   "source": [
    "sns.lineplot(x='n_lags',y='accuracy', hue='featureset', style='acc_type', data=results)"
   ]
  },
  {
   "cell_type": "code",
   "execution_count": null,
   "metadata": {},
   "outputs": [],
   "source": [
    "target_col = 'adherent'\n",
    "all_results = []         \n",
    "n_lags = None\n",
    "\n",
    "# ----- Now predict using optimal number of lags --- \n",
    "    \n",
    "for t_feats in temporal_featuresets:\n",
    "    \n",
    "    if t_feats.horizon == 'study_day':\n",
    "        n_lags = 4\n",
    "    elif t_feats.horizon == 'study_week':\n",
    "        n_lags = 8\n",
    "    elif t_feats.horizon == 'study_month':\n",
    "        n_lags = 2\n",
    "    \n",
    "    # Get a lagged featureset\n",
    "    t_feats_lagged = t_feats.prep_for_modeling(n_lags)\n",
    "\n",
    "    res = models.predict(t_feats_lagged, n_lags, classifiers=['LogisticR', 'RF', 'XGB', 'SVM'], optimize=True)\n",
    "#     print(res)\n",
    "    all_results.append(res)       \n",
    "             "
   ]
  },
  {
   "cell_type": "code",
   "execution_count": null,
   "metadata": {},
   "outputs": [],
   "source": [
    "# shap_scores = pickle.load(open('feature_importance/shap_RF_' + str(n_lags) + '_lags_optimized.ob', 'rb'))\n",
    "# X_test = pd.read_pickle('feature_importance/X_test_RF_' + str(n_lags) + '_lags.ob')\n",
    "# X_test.columns = [x.replace('_', ' ').capitalize() if 'A_' not in x else x.replace('A_', '') for x in X_test.columns]\n",
    "# shap.summary_plot(shap_scores[1], X_test, show=False)\n",
    "# fig = plt.gcf()\n",
    "# fig.set_size_inches(12.5, 8.5)\n",
    "# plt.savefig('feature_importance/RF.png')\n",
    "# plt.show()"
   ]
  }
 ],
 "metadata": {
  "kernelspec": {
   "display_name": "bcpn_mems",
   "language": "python",
   "name": "bcpn_mems"
  },
  "language_info": {
   "codemirror_mode": {
    "name": "ipython",
    "version": 3
   },
   "file_extension": ".py",
   "mimetype": "text/x-python",
   "name": "python",
   "nbconvert_exporter": "python",
   "pygments_lexer": "ipython3",
   "version": "3.7.4"
  }
 },
 "nbformat": 4,
 "nbformat_minor": 2
}
