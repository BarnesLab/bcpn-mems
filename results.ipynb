{
 "cells": [
  {
   "cell_type": "code",
   "execution_count": null,
   "metadata": {},
   "outputs": [],
   "source": [
    "# IO\n",
    "from pathlib import Path\n",
    "try:\n",
    "    import cPickle as pickle\n",
    "except ModuleNotFoundError:\n",
    "    import pickle\n",
    "\n",
    "# Utility Libraries\n",
    "import math\n",
    "from datetime import datetime\n",
    "import re\n",
    "import csv\n",
    "import itertools\n",
    "\n",
    "# Data Processing\n",
    "import pandas as pd\n",
    "import numpy as np\n",
    "\n",
    "# Predictive Analytics\n",
    "import statsmodels.stats.api as sms\n",
    "from sklearn.feature_selection import VarianceThreshold\n",
    "from sklearn.experimental import enable_iterative_imputer\n",
    "from sklearn.impute import IterativeImputer\n",
    "from sklearn.model_selection import GridSearchCV\n",
    "from sklearn.model_selection import LeaveOneGroupOut\n",
    "from imblearn.over_sampling import SMOTE\n",
    "from sklearn.ensemble import RandomForestClassifier\n",
    "from sklearn.metrics import accuracy_score, f1_score, precision_score, recall_score\n",
    "from bcpn_pipeline import data, features, models, consts\n",
    "import shap\n",
    "\n",
    "# Viz\n",
    "%matplotlib inline\n",
    "import matplotlib as mpl\n",
    "from matplotlib.dates import DateFormatter\n",
    "from matplotlib.cbook import boxplot_stats\n",
    "import matplotlib.dates as mdates\n",
    "import matplotlib.transforms as mtrans\n",
    "import seaborn as sns\n",
    "sns.set_style(\"whitegrid\")\n",
    "\n",
    "import matplotlib.pyplot as plt\n",
    "plt.rcParams.update({'figure.autolayout': True})\n",
    "# plt.rcParams.update({'figure.facecolor': [1.0, 1.0, 1.0, 1.0]})\n",
    "\n",
    "# configure autoreloading of modules\n",
    "%load_ext autoreload\n",
    "%autoreload 2\n"
   ]
  },
  {
   "cell_type": "markdown",
   "metadata": {},
   "source": [
    "# Load Results"
   ]
  },
  {
   "cell_type": "code",
   "execution_count": null,
   "metadata": {},
   "outputs": [],
   "source": [
    "import glob\n",
    "all_files = glob.glob(\"results/*.csv\")\n",
    "all_files\n",
    "\n",
    "pred = []\n",
    "auc = []\n",
    "\n",
    "for filename in all_files:\n",
    "    df = pd.read_csv(filename, index_col=None, header=0)\n",
    "    if 'final' in filename:\n",
    "        if 'auc' in filename:\n",
    "            auc.append(df)\n",
    "        else:\n",
    "            pred.append(df)\n",
    "\n",
    "pred_res = pd.concat(pred, axis=0, ignore_index=True)\n",
    "auc_res = pd.concat(auc, axis=0, ignore_index=True)"
   ]
  },
  {
   "cell_type": "code",
   "execution_count": null,
   "metadata": {},
   "outputs": [],
   "source": [
    "pred_res"
   ]
  },
  {
   "cell_type": "code",
   "execution_count": null,
   "metadata": {},
   "outputs": [],
   "source": [
    "df = pred_res.sort_values(by=['test_accuracy', 'featureset'], ascending=False)\n",
    "df[['test_accuracy', 'train_accuracy', 'method', 'featureset']]"
   ]
  },
  {
   "cell_type": "code",
   "execution_count": null,
   "metadata": {},
   "outputs": [],
   "source": [
    "auc_res"
   ]
  },
  {
   "cell_type": "code",
   "execution_count": null,
   "metadata": {},
   "outputs": [],
   "source": [
    "auc_res = auc_res.merge(pred_res, on=['method', 'n_lags', 'featureset', 'target', 'optimized'])\n",
    "auc_res['legend_label'] = auc_res.apply(\n",
    "    lambda x: '%s (AUC = %0.2f $\\pm$ %0.2f)' % (x['method'], x['test_mean_auc'], x['test_std_auc']),\n",
    "    axis=1\n",
    ")\n",
    "auc_res"
   ]
  },
  {
   "cell_type": "markdown",
   "metadata": {},
   "source": [
    "# ROC Curves"
   ]
  },
  {
   "cell_type": "markdown",
   "metadata": {},
   "source": [
    "## Optimized Models"
   ]
  },
  {
   "cell_type": "code",
   "execution_count": null,
   "metadata": {},
   "outputs": [],
   "source": [
    "plt.figure(figsize=(9,5))\n",
    "df = auc_res[(auc_res['featureset'] == 'study_day') & (auc_res['optimized'] == True)]\n",
    "g = sns.lineplot('test_mean_fpr', 'test_mean_tpr', hue='legend_label', data=df)\n",
    "g.plot([0, 1], [0, 1], linestyle='--', lw=2, color='black',\n",
    "        label='Chance', alpha=.8)\n",
    "g.set(title= 'Mean ROC for Optimized Models',\n",
    "      xlabel='False Positive Rate (Positive Label: 1)', \n",
    "      ylabel='True Positive Rate (Positive Label: 1)')\n",
    "g.legend(title='Model',\n",
    "         bbox_to_anchor=(1.05, 1), ncol=1).texts[0].set_text('')\n",
    "plt.savefig('results/roc_curves_optimized.png')\n",
    "plt.show()"
   ]
  },
  {
   "cell_type": "markdown",
   "metadata": {},
   "source": [
    "# Feature Importance"
   ]
  },
  {
   "cell_type": "code",
   "execution_count": null,
   "metadata": {},
   "outputs": [],
   "source": [
    "# XGB x FS4, in paper\n",
    "shap_scores = pickle.load(open('feature_importance/shap_study_day_XGB_6_lags_optimized.ob', 'rb'))\n",
    "# shap_scores = shap_scores\n",
    "X_test = pd.read_pickle('feature_importance/X_test_study_day_XGB_6_lags_optimized.ob')\n",
    "X_test.columns = [x.replace('_', ' ').capitalize() for x in X_test.columns]\n",
    "shap.summary_plot(shap_scores, X_test, show=False)\n",
    "fig = plt.gcf()\n",
    "fig.set_size_inches(12.5, 8.5)\n",
    "# txt=\"I need the caption to be present a little below X-axis\"\n",
    "# plt.figtext(0.53, -0.01, txt, wrap=True, horizontalalignment='center', fontsize=14)\n",
    "# plt.savefig('results/pred/feature_importance/anx.png')\n",
    "plt.show()"
   ]
  },
  {
   "cell_type": "code",
   "execution_count": null,
   "metadata": {},
   "outputs": [],
   "source": [
    "shap_scores.shape[1]"
   ]
  },
  {
   "cell_type": "code",
   "execution_count": null,
   "metadata": {},
   "outputs": [],
   "source": [
    "X_test"
   ]
  }
 ],
 "metadata": {
  "kernelspec": {
   "display_name": "bcpn_mems",
   "language": "python",
   "name": "bcpn_mems"
  },
  "language_info": {
   "codemirror_mode": {
    "name": "ipython",
    "version": 3
   },
   "file_extension": ".py",
   "mimetype": "text/x-python",
   "name": "python",
   "nbconvert_exporter": "python",
   "pygments_lexer": "ipython3",
   "version": "3.7.4"
  }
 },
 "nbformat": 4,
 "nbformat_minor": 2
}
