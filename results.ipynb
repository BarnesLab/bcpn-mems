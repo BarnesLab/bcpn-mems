{
 "cells": [
  {
   "cell_type": "code",
   "execution_count": null,
   "metadata": {},
   "outputs": [],
   "source": [
    "# IO\n",
    "from pathlib import Path\n",
    "try:\n",
    "    import cPickle as pickle\n",
    "except ModuleNotFoundError:\n",
    "    import pickle\n",
    "\n",
    "# Utility Libraries\n",
    "import math\n",
    "from datetime import datetime\n",
    "import re\n",
    "import csv\n",
    "import itertools\n",
    "\n",
    "# Data Processing\n",
    "import pandas as pd\n",
    "import numpy as np\n",
    "\n",
    "# Predictive Analytics\n",
    "import statsmodels.stats.api as sms\n",
    "from sklearn.feature_selection import VarianceThreshold\n",
    "from sklearn.experimental import enable_iterative_imputer\n",
    "from sklearn.impute import IterativeImputer\n",
    "from sklearn.model_selection import GridSearchCV\n",
    "from sklearn.model_selection import LeaveOneGroupOut\n",
    "from imblearn.over_sampling import SMOTE\n",
    "from sklearn.ensemble import RandomForestClassifier\n",
    "from sklearn.metrics import accuracy_score, f1_score, precision_score, recall_score\n",
    "from bcpn_pipeline import data, features, models, consts\n",
    "import shap\n",
    "\n",
    "# Viz\n",
    "%matplotlib inline\n",
    "import matplotlib as mpl\n",
    "from matplotlib.dates import DateFormatter\n",
    "from matplotlib.cbook import boxplot_stats\n",
    "import matplotlib.dates as mdates\n",
    "import matplotlib.transforms as mtrans\n",
    "import seaborn as sns\n",
    "sns.set_style(\"whitegrid\")\n",
    "\n",
    "import matplotlib.pyplot as plt\n",
    "plt.rcParams.update({'figure.autolayout': True})\n",
    "# plt.rcParams.update({'figure.facecolor': [1.0, 1.0, 1.0, 1.0]})\n",
    "\n",
    "# configure autoreloading of modules\n",
    "%load_ext autoreload\n",
    "%autoreload 2\n"
   ]
  },
  {
   "cell_type": "markdown",
   "metadata": {},
   "source": [
    "# Load Results"
   ]
  },
  {
   "cell_type": "code",
   "execution_count": null,
   "metadata": {},
   "outputs": [],
   "source": [
    "import glob\n",
    "\n",
    "pred_res = pd.read_csv('results/pred_results.csv')\n",
    "pred_res =  pred_res[~pred_res.test_accuracy.str.contains('test_accuracy')] # remove headers from CSV body\n",
    "\n",
    "auc_res = pd.read_csv('results/auc_results.csv')\n",
    "auc_res =  auc_res[~auc_res.test_tpr.str.contains('test_tpr')] # remove headers from CSV body\n",
    "auc_res['target'] = 'adherent' # Add missing target col\n",
    "\n",
    "for df in [pred_res, auc_res]:\n",
    "    for col in df:\n",
    "        try:\n",
    "            df[col] = pd.to_numeric(df[col])\n",
    "        except:\n",
    "            pass"
   ]
  },
  {
   "cell_type": "code",
   "execution_count": null,
   "metadata": {},
   "outputs": [],
   "source": [
    "pred_res.head()"
   ]
  },
  {
   "cell_type": "code",
   "execution_count": null,
   "metadata": {},
   "outputs": [],
   "source": [
    "df = pred_res.sort_values(by=['test_accuracy', 'featureset'], ascending=False)\n",
    "df[['test_accuracy', 'train_accuracy', 'method', 'featureset']].head()"
   ]
  },
  {
   "cell_type": "code",
   "execution_count": null,
   "metadata": {},
   "outputs": [],
   "source": [
    "auc_res.head()"
   ]
  },
  {
   "cell_type": "code",
   "execution_count": null,
   "metadata": {},
   "outputs": [],
   "source": [
    "auc_res = auc_res.merge(pred_res, on=['method', 'n_lags', 'featureset', 'target', 'optimized'])\n",
    "auc_res['legend_label'] = auc_res.apply(\n",
    "    lambda x: '%s (AUC = %0.2f $\\pm$ %0.2f)' % (x['method'], x['test_mean_auc'], x['test_std_auc']),\n",
    "    axis=1\n",
    ")\n",
    "auc_res"
   ]
  },
  {
   "cell_type": "code",
   "execution_count": null,
   "metadata": {},
   "outputs": [],
   "source": [
    "auc_res.iloc[[0, 5, 2, 5]]"
   ]
  },
  {
   "cell_type": "code",
   "execution_count": null,
   "metadata": {},
   "outputs": [],
   "source": [
    "auc_res.n_lags.unique()"
   ]
  },
  {
   "cell_type": "markdown",
   "metadata": {},
   "source": [
    "# ROC Curves"
   ]
  },
  {
   "cell_type": "code",
   "execution_count": null,
   "metadata": {},
   "outputs": [],
   "source": [
    "featuresets = list(auc_res.featureset.unique())\n",
    "models = list(auc_res.method.unique())\n",
    "fs_titles = {fs: None for fs in featuresets}\n",
    "for fs in fs_titles.keys():\n",
    "    title = 'Next-' \n",
    "    if 'day' in fs:\n",
    "        title = title + 'Day'\n",
    "    elif 'week' in fs:\n",
    "        title = title + 'Week'\n",
    "    \n",
    "    title = title + ' Prediction w/' + ('Full' if 'all_scores' in fs else 'MEMS-Only') + ' Feature Set'\n",
    "    fs_titles[fs] = title\n",
    "fs_titles"
   ]
  },
  {
   "cell_type": "markdown",
   "metadata": {},
   "source": [
    "## Optimized Models"
   ]
  },
  {
   "cell_type": "code",
   "execution_count": null,
   "metadata": {},
   "outputs": [],
   "source": [
    "for fs in featuresets:\n",
    "    plt.figure(figsize=(9,5))\n",
    "    df = auc_res[(auc_res['featureset'] == fs) & (auc_res['optimized'] == 'True')]\n",
    "    print(df)\n",
    "    g = sns.lineplot('test_fpr', 'test_tpr', hue='legend_label', data=df)\n",
    "    g.plot([0, 1], [0, 1], linestyle='--', lw=2, color='black',\n",
    "            label='Chance', alpha=.8)\n",
    "        \n",
    "    g.set(title= 'Mean ROC for Optimized Models\\n %s' % (fs_titles[fs]),\n",
    "          xlabel='False Positive Rate (Positive Label: 1)', \n",
    "          ylabel='True Positive Rate (Positive Label: 1)')\n",
    "    g.legend(title='Model',\n",
    "             bbox_to_anchor=(1.05, 1), ncol=1).texts[0].set_text('')\n",
    "#     plt.savefig('results/roc_curves_optimized_%s.png' % (fs))\n",
    "    plt.show()"
   ]
  },
  {
   "cell_type": "markdown",
   "metadata": {},
   "source": [
    "# Feature Importance"
   ]
  },
  {
   "cell_type": "code",
   "execution_count": null,
   "metadata": {},
   "outputs": [],
   "source": [
    "for fs in featuresets:\n",
    "    print(fs)\n",
    "    n_lags = pred_res[pred_res['featureset'] == fs]['n_lags'].iloc[0]\n",
    "    for model in models:\n",
    "        shap_scores = pickle.load(open('feature_importance/shap_%s_%s_%d_lags_optimized.ob' % (fs, model, n_lags), 'rb'))\n",
    "\n",
    "        # Handle special case of RF - get results only for the positive class\n",
    "        if model == 'RF': \n",
    "            shap_scores = shap_scores[1]\n",
    "        X_test = pd.read_pickle('feature_importance/X_test_%s_%s_%d_lags_optimized.ob' % (fs, model, n_lags))\n",
    "        X_test.columns = [x.replace('_', ' ').capitalize() for x in X_test.columns]\n",
    "        shap.summary_plot(shap_scores, X_test, show=False, plot_type='bar')\n",
    "        fig = plt.gcf()\n",
    "        fig.set_size_inches(12.5, 8.5)\n",
    "        plt.savefig('feature_importance/shap_%s_%s_%d_lags_optimized.png' % (fs, model, n_lags))\n",
    "        plt.show()"
   ]
  },
  {
   "cell_type": "code",
   "execution_count": null,
   "metadata": {},
   "outputs": [],
   "source": [
    "shap_scores.shape[1]"
   ]
  },
  {
   "cell_type": "code",
   "execution_count": null,
   "metadata": {},
   "outputs": [],
   "source": [
    "X_test"
   ]
  }
 ],
 "metadata": {
  "kernelspec": {
   "display_name": "bcpn_mems",
   "language": "python",
   "name": "bcpn_mems"
  },
  "language_info": {
   "codemirror_mode": {
    "name": "ipython",
    "version": 3
   },
   "file_extension": ".py",
   "mimetype": "text/x-python",
   "name": "python",
   "nbconvert_exporter": "python",
   "pygments_lexer": "ipython3",
   "version": "3.7.4"
  }
 },
 "nbformat": 4,
 "nbformat_minor": 2
}
