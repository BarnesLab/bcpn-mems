{
 "cells": [
  {
   "cell_type": "code",
   "execution_count": null,
   "metadata": {},
   "outputs": [],
   "source": [
    "# IO\n",
    "from pathlib import Path\n",
    "try:\n",
    "    import cPickle as pickle\n",
    "except ModuleNotFoundError:\n",
    "    import pickle\n",
    "\n",
    "# Utility Libraries\n",
    "import math\n",
    "from datetime import datetime\n",
    "import re\n",
    "import csv\n",
    "import itertools\n",
    "\n",
    "# Data Processing\n",
    "import pandas as pd\n",
    "import numpy as np\n",
    "\n",
    "# Predictive Analytics\n",
    "import statsmodels.stats.api as sms\n",
    "from sklearn.feature_selection import VarianceThreshold\n",
    "from sklearn.experimental import enable_iterative_imputer\n",
    "from sklearn.impute import IterativeImputer\n",
    "from sklearn.model_selection import GridSearchCV\n",
    "from sklearn.model_selection import LeaveOneGroupOut\n",
    "from imblearn.over_sampling import SMOTE\n",
    "from sklearn.ensemble import RandomForestClassifier\n",
    "from sklearn.metrics import accuracy_score, f1_score, precision_score, recall_score\n",
    "from bcpn_pipeline import data, features, models, consts\n",
    "import shap\n",
    "\n",
    "# Viz\n",
    "%matplotlib inline\n",
    "import matplotlib as mpl\n",
    "from matplotlib.dates import DateFormatter\n",
    "from matplotlib.cbook import boxplot_stats\n",
    "import matplotlib.dates as mdates\n",
    "import matplotlib.transforms as mtrans\n",
    "import seaborn as sns\n",
    "# sns.set_style(\"whitegrid\")\n",
    "\n",
    "import matplotlib.pyplot as plt\n",
    "plt.rcParams.update({'figure.autolayout': True})\n",
    "# plt.rcParams.update({'figure.facecolor': [1.0, 1.0, 1.0, 1.0]})\n",
    "\n",
    "# configure autoreloading of modules\n",
    "%load_ext autoreload\n",
    "%autoreload 2\n"
   ]
  },
  {
   "cell_type": "code",
   "execution_count": null,
   "metadata": {},
   "outputs": [],
   "source": [
    "# Set up paths\n",
    "res_path = 'results/prediction_task/'\n",
    "# feat_imp_path = 'feature_importance/'\n",
    "feat_imp_path = res_path"
   ]
  },
  {
   "cell_type": "markdown",
   "metadata": {},
   "source": [
    "# Load Results"
   ]
  },
  {
   "cell_type": "code",
   "execution_count": null,
   "metadata": {},
   "outputs": [],
   "source": [
    "import glob\n",
    "\n",
    "pred_res = pd.read_csv(res_path + 'pred.csv')\n",
    "pred_res.drop(columns=['support'], inplace=True)\n",
    "auc_res = pd.read_csv(res_path + 'auc.csv')\n",
    "roc_res = pd.read_csv(res_path + 'roc.csv')\n",
    "for df in [pred_res, auc_res, roc_res]:\n",
    "    for col in df:\n",
    "        try:\n",
    "            df[col] = pd.to_numeric(df[col])\n",
    "        except:\n",
    "            pass"
   ]
  },
  {
   "cell_type": "code",
   "execution_count": null,
   "metadata": {},
   "outputs": [],
   "source": [
    "pred_res"
   ]
  },
  {
   "cell_type": "code",
   "execution_count": null,
   "metadata": {},
   "outputs": [],
   "source": [
    "auc_res"
   ]
  },
  {
   "cell_type": "code",
   "execution_count": null,
   "metadata": {},
   "outputs": [],
   "source": [
    "roc_res"
   ]
  },
  {
   "cell_type": "code",
   "execution_count": null,
   "metadata": {},
   "outputs": [],
   "source": [
    "# auc_res['type'] = 'test'\n",
    "# roc_res['type'] = 'test'"
   ]
  },
  {
   "cell_type": "code",
   "execution_count": null,
   "metadata": {},
   "outputs": [],
   "source": [
    "# Get aggregate results across runs, by featureset and method\n",
    "agg_res = None\n",
    "pred_res_agg = pd.DataFrame()\n",
    "groupby_cols = ['featureset', 'method', 'features_selected', 'tuned', 'type']\n",
    "metrics = ['accuracy', 'precision', 'sensitivity', 'specificity', 'f1_score']\n",
    "\n",
    "for metric in metrics:\n",
    "    df = pred_res.groupby(groupby_cols)[metric].agg({\n",
    "        metric + '_mean': 'mean',\n",
    "        metric + '_std': 'std',\n",
    "        metric + '_var': 'var'\n",
    "    }).reset_index()\n",
    "    \n",
    "    if pred_res_agg.empty:\n",
    "        pred_res_agg = df\n",
    "    else:\n",
    "        pred_res_agg = pred_res_agg.merge(df, on=groupby_cols)\n",
    "\n",
    "pred_res_agg = pred_res_agg.merge(auc_res[['auc_mean', 'auc_std'] + groupby_cols], on=groupby_cols, how='outer')\n",
    "pred_res_agg.fillna(-1, inplace=True)\n",
    "pred_res_agg.to_csv(res_path + 'pred_agg.csv')\n",
    "pred_res_agg"
   ]
  },
  {
   "cell_type": "code",
   "execution_count": null,
   "metadata": {},
   "outputs": [],
   "source": [
    "\n",
    "for metric in metrics + ['auc']:\n",
    "    pred_res_agg.rename(columns={metric + '_mean': metric}, inplace=True)\n",
    "    pred_res_agg[metric] = pred_res_agg.apply(\n",
    "        lambda x: '%0.4f $\\pm$ %0.2f' % (x[metric], x[metric + '_std']),\n",
    "        axis=1\n",
    "    )\n",
    "pred_res_agg = pred_res_agg[groupby_cols + metrics + ['auc']]\n",
    "pred_res_agg.to_csv(res_path + 'pred_agg_condensed.csv')\n",
    "pred_res_agg"
   ]
  },
  {
   "cell_type": "code",
   "execution_count": null,
   "metadata": {},
   "outputs": [],
   "source": [
    "auc_res"
   ]
  },
  {
   "cell_type": "code",
   "execution_count": null,
   "metadata": {},
   "outputs": [],
   "source": [
    "merge_cols"
   ]
  },
  {
   "cell_type": "code",
   "execution_count": null,
   "metadata": {},
   "outputs": [],
   "source": [
    "merge_cols =  [col for col in roc_res.columns if '_mean' not in col and '_std' not in col] \n",
    "roc_res = roc_res.merge(auc_res, on=merge_cols)\n",
    "\n",
    "roc_res['legend_label'] = roc_res.apply(\n",
    "    lambda x: '%s (AUC = %0.2f $\\pm$ %0.2f)' % (x['method'], x['auc_mean'], x['auc_std']),\n",
    "    axis=1\n",
    ")\n",
    "roc_res"
   ]
  },
  {
   "cell_type": "markdown",
   "metadata": {},
   "source": [
    "# ROC Curves"
   ]
  },
  {
   "cell_type": "code",
   "execution_count": null,
   "metadata": {},
   "outputs": [],
   "source": [
    "featuresets = list(roc_res.featureset.unique())\n",
    "methods = list(roc_res.method.unique())\n",
    "\n",
    "fs_titles = {fs: None for fs in featuresets}\n",
    "for fs in fs_titles.keys():\n",
    "    title = 'Next-' \n",
    "    if 'day' in fs:\n",
    "        title = title + 'Day'\n",
    "    elif 'week' in fs:\n",
    "        title = title + 'Week'\n",
    "    elif 'month' in fs:\n",
    "        title = title + 'Month'\n",
    "    \n",
    "    title = title + ' Prediction w/' + ('Full' if 'all_scores' in fs else 'MEMS-Only') + ' Feature Set'\n",
    "    fs_titles[fs] = title\n",
    "fs_titles"
   ]
  },
  {
   "cell_type": "markdown",
   "metadata": {},
   "source": [
    "## Optimized methods"
   ]
  },
  {
   "cell_type": "code",
   "execution_count": null,
   "metadata": {},
   "outputs": [],
   "source": [
    "for fs in featuresets:\n",
    "    print(fs)\n",
    "    plt.figure(figsize=(9,5))\n",
    "    df = roc_res[(roc_res['featureset'] == fs) & (roc_res['tuned'] ==  True) & (roc_res['features_selected'] == True)]\n",
    "    g = sns.lineplot('fpr_mean', 'tpr_mean', hue='legend_label', data=df)\n",
    "    g.plot([0, 1], [0, 1], linestyle='--', lw=2, color='black',\n",
    "            label='Chance', alpha=.8)\n",
    "        \n",
    "    g.set(title= 'Mean ROC for Optimized methods\\n %s' % (fs_titles[fs]),\n",
    "          xlabel='False Positive Rate (Positive Label: 1)', \n",
    "          ylabel='True Positive Rate (Positive Label: 1)')\n",
    "    g.legend(title='Model',\n",
    "             bbox_to_anchor=(1.05, 1), ncol=1).texts[0].set_text('')\n",
    "    plt.savefig(res_path  +'roc_curves_optimized_%s.png' % (fs))\n",
    "    plt.show()"
   ]
  },
  {
   "cell_type": "markdown",
   "metadata": {},
   "source": [
    "# Feature Importance"
   ]
  },
  {
   "cell_type": "code",
   "execution_count": null,
   "metadata": {},
   "outputs": [],
   "source": [
    "# TODO - re-tune LogisticR since ROC curve sucks\n",
    "# ensure shap dfs get renamed to \"optimized\" if selected feats and tuned are true\n",
    "for fs in featuresets:\n",
    "    print(fs)\n",
    "    n_lags = pred_res[pred_res['featureset'] == fs]['n_lags'].iloc[0]\n",
    "    for method in methods:\n",
    "        filename = 'shap_df_%s_%s_%d_lags_tuned' % (fs, method, n_lags)       \n",
    "        shap_df = pickle.load(open(feat_imp_path + filename + '.ob', 'rb'))\n",
    "        shap_scores = shap_df.to_numpy()\n",
    "        feature_names = list(shap_df.columns)\n",
    "        feature_names = [x.replace('_', ' ').replace('(', ' (').capitalize() for x in feature_names]\n",
    "        shap.summary_plot(shap_scores, feature_names, show=False, plot_type='dot')\n",
    "#         fig = plt.gcf()\n",
    "#         fig.set_size_inches(12.5, 8.5)\n",
    "        plt.savefig(feat_imp_path + filename + '.png')\n",
    "        plt.show()"
   ]
  },
  {
   "cell_type": "code",
   "execution_count": null,
   "metadata": {},
   "outputs": [],
   "source": [
    "shap_scores = shap_df.to_numpy()\n",
    "feats = list(shap_df.columns)\n",
    "shap.summary_plot(shap_scores, feats, show=False, plot_type='bar')"
   ]
  },
  {
   "cell_type": "code",
   "execution_count": null,
   "metadata": {},
   "outputs": [],
   "source": [
    "filename = f'{feat_imp_path}shap_explainer_study_day_LogisticR_2_lags_tuned_run_0_fold_0.pkl'\n",
    "explainer = pickle.load(open(filename, 'rb'))\n",
    "explainer"
   ]
  },
  {
   "cell_type": "code",
   "execution_count": null,
   "metadata": {},
   "outputs": [],
   "source": [
    "filename = f'{feat_imp_path}shap_values_study_day_LogisticR_2_lags_tuned_run_0_fold_0.pkl'\n",
    "shap_values = pickle.load(open(filename, 'rb'))\n",
    "shap_values"
   ]
  },
  {
   "cell_type": "code",
   "execution_count": null,
   "metadata": {},
   "outputs": [],
   "source": [
    "shap.plots.bar(shap_values[0])"
   ]
  }
 ],
 "metadata": {
  "kernelspec": {
   "display_name": "bcpn_mems",
   "language": "python",
   "name": "bcpn_mems"
  },
  "language_info": {
   "codemirror_mode": {
    "name": "ipython",
    "version": 3
   },
   "file_extension": ".py",
   "mimetype": "text/x-python",
   "name": "python",
   "nbconvert_exporter": "python",
   "pygments_lexer": "ipython3",
   "version": "3.9.7"
  }
 },
 "nbformat": 4,
 "nbformat_minor": 2
}
