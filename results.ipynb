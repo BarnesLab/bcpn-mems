{
 "cells": [
  {
   "cell_type": "code",
   "execution_count": null,
   "metadata": {},
   "outputs": [],
   "source": [
    "# IO\n",
    "from pathlib import Path\n",
    "try:\n",
    "    import cPickle as pickle\n",
    "except ModuleNotFoundError:\n",
    "    import pickle\n",
    "\n",
    "# Utility Libraries\n",
    "import math\n",
    "from datetime import datetime\n",
    "import re\n",
    "import csv\n",
    "import itertools\n",
    "\n",
    "# Data Processing\n",
    "import pandas as pd\n",
    "import numpy as np\n",
    "\n",
    "# Predictive Analytics\n",
    "import statsmodels.stats.api as sms\n",
    "from sklearn.feature_selection import VarianceThreshold\n",
    "from sklearn.experimental import enable_iterative_imputer\n",
    "from sklearn.impute import IterativeImputer\n",
    "from sklearn.model_selection import GridSearchCV\n",
    "from sklearn.model_selection import LeaveOneGroupOut\n",
    "from imblearn.over_sampling import SMOTE\n",
    "from sklearn.ensemble import RandomForestClassifier\n",
    "from sklearn.metrics import accuracy_score, f1_score, precision_score, recall_score\n",
    "from bcpn_pipeline import data, features, models, consts\n",
    "import shap\n",
    "\n",
    "# Viz\n",
    "%matplotlib inline\n",
    "import matplotlib as mpl\n",
    "from matplotlib.dates import DateFormatter\n",
    "from matplotlib.cbook import boxplot_stats\n",
    "import matplotlib.dates as mdates\n",
    "import matplotlib.transforms as mtrans\n",
    "import seaborn as sns\n",
    "sns.set_style(\"whitegrid\")\n",
    "\n",
    "import matplotlib.pyplot as plt\n",
    "plt.rcParams.update({'figure.autolayout': True})\n",
    "# plt.rcParams.update({'figure.facecolor': [1.0, 1.0, 1.0, 1.0]})\n",
    "\n",
    "# configure autoreloading of modules\n",
    "%load_ext autoreload\n",
    "%autoreload 2\n"
   ]
  },
  {
   "cell_type": "code",
   "execution_count": null,
   "metadata": {},
   "outputs": [],
   "source": [
    "# Set up some common vars\n",
    "merge_cols = ['n_lags', 'featureset','optimized','target','method','run','n_features','n_samples']\n",
    "metrics = ['accuracy', 'precision', 'recall', 'f1_score']\n",
    "res_path = 'results/'\n",
    "feat_imp_path = 'feature_importance/'"
   ]
  },
  {
   "cell_type": "markdown",
   "metadata": {},
   "source": [
    "# Load Results"
   ]
  },
  {
   "cell_type": "code",
   "execution_count": null,
   "metadata": {},
   "outputs": [],
   "source": [
    "import glob\n",
    "\n",
    "pred_res = pd.read_csv(res_path + 'pred_results.csv')\n",
    "pred_res =  pred_res[~pred_res.test_accuracy.str.contains('test_accuracy')] # remove headers from CSV body\n",
    "pred_res.drop(columns=['test_support'], inplace=True)\n",
    "\n",
    "auc_res = pd.read_csv(res_path + 'auc_results.csv')\n",
    "auc_res = auc_res[~auc_res.auc_mean.str.contains('auc_mean')] # remove headers from CSV body\n",
    "\n",
    "roc_res = pd.read_csv(res_path + 'roc_curves.csv')\n",
    "roc_res = roc_res[~roc_res.tpr_mean.str.contains('tpr_mean')] # remove headers from CSV body\n",
    "\n",
    "for df in [pred_res, auc_res, roc_res]:\n",
    "    for col in df:\n",
    "        try:\n",
    "            df[col] = pd.to_numeric(df[col])\n",
    "        except:\n",
    "            pass"
   ]
  },
  {
   "cell_type": "code",
   "execution_count": null,
   "metadata": {},
   "outputs": [],
   "source": [
    "auc_res"
   ]
  },
  {
   "cell_type": "code",
   "execution_count": null,
   "metadata": {},
   "outputs": [],
   "source": [
    "pred_res"
   ]
  },
  {
   "cell_type": "code",
   "execution_count": null,
   "metadata": {},
   "outputs": [],
   "source": [
    "# Get aggregate results across runs, by featureset and method\n",
    "agg_res = pd.DataFrame()\n",
    "groupby_cols = ['featureset', 'method', 'optimized']\n",
    "\n",
    "for metric in metrics:\n",
    "    df = pred_res.groupby(groupby_cols)['test_' + metric].agg({\n",
    "        metric + '_mean': 'mean',\n",
    "        metric + '_std': 'std',\n",
    "        metric + '_var': 'var'\n",
    "    }).reset_index()\n",
    "    \n",
    "    if agg_res.empty:\n",
    "        agg_res = df\n",
    "    else:\n",
    "        agg_res = agg_res.merge(df, on=groupby_cols)\n",
    "\n",
    "agg_res = agg_res.merge(auc_res[['auc_mean', 'auc_std'] + groupby_cols], on=groupby_cols)\n",
    "agg_res.to_csv(res_path + 'agg_res_full.csv')\n",
    "agg_res"
   ]
  },
  {
   "cell_type": "code",
   "execution_count": null,
   "metadata": {},
   "outputs": [],
   "source": [
    "for metric in metrics + ['auc']:\n",
    "    agg_res.rename(columns={metric + '_mean': metric}, inplace=True)\n",
    "    agg_res[metric] = agg_res.apply(\n",
    "        lambda x: '%0.4f $\\pm$ %0.2f' % (x[metric], x[metric + '_std']),\n",
    "        axis=1\n",
    "    )\n",
    "agg_res = agg_res[groupby_cols + metrics + ['auc']]\n",
    "agg_res.to_csv(res_path + 'agg_res_condensed.csv')\n",
    "agg_res"
   ]
  },
  {
   "cell_type": "code",
   "execution_count": null,
   "metadata": {},
   "outputs": [],
   "source": [
    "roc_res = roc_res.merge(auc_res, on=merge_cols)\n",
    "\n",
    "roc_res['legend_label'] = roc_res.apply(\n",
    "    lambda x: '%s (AUC = %0.2f $\\pm$ %0.2f)' % (x['method'], x['auc_mean'], x['auc_std']),\n",
    "    axis=1\n",
    ")\n",
    "roc_res"
   ]
  },
  {
   "cell_type": "markdown",
   "metadata": {},
   "source": [
    "# ROC Curves"
   ]
  },
  {
   "cell_type": "code",
   "execution_count": null,
   "metadata": {},
   "outputs": [],
   "source": [
    "featuresets = list(roc_res.featureset.unique())\n",
    "methods = list(roc_res.method.unique())\n",
    "\n",
    "fs_titles = {fs: None for fs in featuresets}\n",
    "for fs in fs_titles.keys():\n",
    "    title = 'Next-' \n",
    "    if 'day' in fs:\n",
    "        title = title + 'Day'\n",
    "    elif 'week' in fs:\n",
    "        title = title + 'Week'\n",
    "    elif 'month' in fs:\n",
    "        title = title + 'Month'\n",
    "    \n",
    "    title = title + ' Prediction w/' + ('Full' if 'all_scores' in fs else 'MEMS-Only') + ' Feature Set'\n",
    "    fs_titles[fs] = title\n",
    "fs_titles"
   ]
  },
  {
   "cell_type": "markdown",
   "metadata": {},
   "source": [
    "## Optimized methods"
   ]
  },
  {
   "cell_type": "code",
   "execution_count": null,
   "metadata": {},
   "outputs": [],
   "source": [
    "for fs in featuresets:\n",
    "    plt.figure(figsize=(9,5))\n",
    "    df = roc_res[(roc_res['featureset'] == fs) & (roc_res['optimized'] == 'True')]\n",
    "    g = sns.lineplot('fpr_mean', 'tpr_mean', hue='legend_label', data=df)\n",
    "    g.plot([0, 1], [0, 1], linestyle='--', lw=2, color='black',\n",
    "            label='Chance', alpha=.8)\n",
    "        \n",
    "    g.set(title= 'Mean ROC for Optimized methods\\n %s' % (fs_titles[fs]),\n",
    "          xlabel='False Positive Rate (Positive Label: 1)', \n",
    "          ylabel='True Positive Rate (Positive Label: 1)')\n",
    "    g.legend(title='Model',\n",
    "             bbox_to_anchor=(1.05, 1), ncol=1).texts[0].set_text('')\n",
    "    plt.savefig(res_path  +'roc_curves_optimized_%s.png' % (fs))\n",
    "    plt.show()"
   ]
  },
  {
   "cell_type": "markdown",
   "metadata": {},
   "source": [
    "# Feature Importance"
   ]
  },
  {
   "cell_type": "code",
   "execution_count": null,
   "metadata": {},
   "outputs": [],
   "source": [
    "for fs in featuresets:\n",
    "    print(fs)\n",
    "    n_lags = pred_res[pred_res['featureset'] == fs]['n_lags'].iloc[0]\n",
    "    for method in methods:\n",
    "        suffix = '%s_%s_%d_lags_optimized' % (fs, method, n_lags)\n",
    "        \n",
    "        shap_scores = pickle.load(open(feat_imp_path + 'shap_' + suffix + '.ob', 'rb'))\n",
    "\n",
    "        # Get results only for the positive class, for classifiers with multiple outputs\n",
    "        if method == 'RF' or method == 'SVM': # classifiers with multiple outputs\n",
    "            shap_scores = shap_scores[1]\n",
    "            \n",
    "        X_test = pd.read_pickle(feat_imp_path + 'X_test_' + suffix + '.ob')\n",
    "        X_test.columns = [x.replace('_', ' ').capitalize() for x in X_test.columns]\n",
    "        shap.summary_plot(shap_scores, X_test, show=False, plot_type='bar')\n",
    "        fig = plt.gcf()\n",
    "        fig.set_size_inches(12.5, 8.5)\n",
    "        plt.savefig(feat_imp_path + 'shap_' + suffix + '.png')\n",
    "        plt.show()"
   ]
  },
  {
   "cell_type": "code",
   "execution_count": null,
   "metadata": {},
   "outputs": [],
   "source": [
    "shap_scores = pickle.load(open('results/prediction_task/shap_study_day_LogisticR_2.ob', 'rb'))\n",
    "shap_feats = pickle.load(open('results/prediction_task/features_study_day_LogisticR_2.ob', 'rb'))"
   ]
  },
  {
   "cell_type": "code",
   "execution_count": null,
   "metadata": {},
   "outputs": [],
   "source": [
    "shap_df = pickle.load(open('results/prediction_task/shap_df_study_day_LogisticR_2.ob', 'rb'))"
   ]
  },
  {
   "cell_type": "code",
   "execution_count": null,
   "metadata": {},
   "outputs": [],
   "source": [
    "shap_scores = shap_df.to_numpy()\n",
    "feats = list(shap_df.columns)\n",
    "shap.summary_plot(shap_scores, feats, show=False, plot_type='bar')"
   ]
  }
 ],
 "metadata": {
  "kernelspec": {
   "display_name": "bcpn_mems",
   "language": "python",
   "name": "bcpn_mems"
  },
  "language_info": {
   "codemirror_mode": {
    "name": "ipython",
    "version": 3
   },
   "file_extension": ".py",
   "mimetype": "text/x-python",
   "name": "python",
   "nbconvert_exporter": "python",
   "pygments_lexer": "ipython3",
   "version": "3.7.4"
  }
 },
 "nbformat": 4,
 "nbformat_minor": 2
}
